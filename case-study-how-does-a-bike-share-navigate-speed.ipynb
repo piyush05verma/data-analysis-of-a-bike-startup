{
 "cells": [
  {
   "cell_type": "markdown",
   "id": "ce96ceff",
   "metadata": {
    "papermill": {
     "duration": 0.013841,
     "end_time": "2022-09-02T22:39:01.721886",
     "exception": false,
     "start_time": "2022-09-02T22:39:01.708045",
     "status": "completed"
    },
    "tags": []
   },
   "source": [
    "# **Case Study: How Does a Bike-Share Navigate Speedy Success?**\n",
    "\n",
    "Author: Piyush Verma\n",
    "\n",
    "Date: 23/06/2024\n",
    "\n",
    "This is my first case study, where I will employ the guidelines from the Google Data Analytics Certificate: Ask, Prepare, Process, Analyze, Share and Act, to complete this assignment.\n",
    "\n",
    "This assignment is a part of the Google Data Analytics Certificate."
   ]
  },
  {
   "cell_type": "markdown",
   "id": "92246b5e",
   "metadata": {
    "papermill": {
     "duration": 0.011941,
     "end_time": "2022-09-02T22:39:01.771621",
     "exception": false,
     "start_time": "2022-09-02T22:39:01.759680",
     "status": "completed"
    },
    "tags": []
   },
   "source": [
    "### **Scenario**\n",
    "\n",
    "I am a junior data analyst working in the marketing analyst team at Cyclistic, a bike-share company in Chicago. The director of marketing believes the company’s future success depends on maximizing the number of annual memberships. Therefore, my team wants to understand how casual riders and annual members use Cyclistic bikes differently. From these insights, my team will design a new marketing strategy to convert casual riders into annual members.\n",
    "\n",
    "### **Characters and Teams**\n",
    "\n",
    "1. Cyclistic: A bike-share program that features more than 5,800 bicycles and 600 docking stations. Cyclistic sets itself apart by also featuring reclining bikes, hand tricycles, and cargo bikes, making bike-share more inclusive to people with disabilities and riders who can’t use a standard two-wheeled bike. \n",
    "\n",
    "2. Lily Moreno: The director of marketing and your manager. Moreno is responsible for the development of campaigns and initiatives to promote the bike-share program. These may include email, social media, and other channels.\n",
    "\n",
    "3. Cyclistic marketing analytics team: A team of data analysts who are responsible for collecting, analyzing, and reporting data that helps guide Cyclistic marketing strategy. You joined this team six months ago and have been busy learning about Cyclistic’s mission and business goals—as well as how I, as a junior data analyst, can help Cyclistic achieve them.\n",
    "\n",
    "4. Cyclistic executive team: The notoriously detail-oriented executive team will decide whether to approve the recommended marketing program.\n",
    "\n",
    "### **About the Company**\n",
    "\n",
    "In 2016, Cyclistic launched a successful bike-share rental. Since then, the program has grown to a fleet of 5,824 bicycles that are geotracked and locked into a network of 692 stations across Chicago. The bikes can be unlocked from one station and returned to any other station in the system anytime.\n",
    "Until now, Cyclistic’s marketing strategy relied on building general awareness and appealing to broad consumer segments. One approach that helped make these things possible was the flexibility of its pricing plans: single-ride passes, full-day passes, and annual memberships. Customers who purchase single-ride or full-day passes are referred to as casual riders. Customers who purchase annual memberships are Cyclistic members.\n",
    "Cyclistic’s finance analysts have concluded that annual members are much more profitable than casual riders. Although the pricing flexibility helps Cyclistic attract more customers, The director of marketing believes that maximizing the number of annual members will be key to future growth. Rather than creating a marketing campaign that targets all-new customers, she believes there is a very good chance to convert casual riders into members. She notes that casual riders are already aware of the Cyclistic program and have chosen Cyclistic for their mobility needs.\n"
   ]
  },
  {
   "cell_type": "markdown",
   "id": "4a10b5ba",
   "metadata": {
    "papermill": {
     "duration": 0.013114,
     "end_time": "2022-09-02T22:39:01.797016",
     "exception": false,
     "start_time": "2022-09-02T22:39:01.783902",
     "status": "completed"
    },
    "tags": []
   },
   "source": [
    "### **Goal**\n",
    "\n",
    "Three questions will guide the future marketing program:\n",
    "1. How do annual members and casual riders use Cyclistic bikes differently?\n",
    "2. Why would casual riders buy Cyclistic annual memberships?\n",
    "3. How can Cyclistic use digital media to influence casual riders to become members?\n",
    "\n",
    "The director of marketing has assigned me the first question to answer: How do annual members and casual riders use Cyclistic bikes differently? \n",
    "\n",
    "In this assignment, I will produce a report with the following deliverables:\n",
    "1. A clear statement of the business task\n",
    "2. Documentation of any cleaning or manipulation of data\n",
    "3. A summary of my analysis\n",
    "4. Supporting visualizations and key findings"
   ]
  },
  {
   "cell_type": "markdown",
   "id": "ffab4c3a",
   "metadata": {
    "papermill": {
     "duration": 0.012077,
     "end_time": "2022-09-02T22:39:01.845774",
     "exception": false,
     "start_time": "2022-09-02T22:39:01.833697",
     "status": "completed"
    },
    "tags": []
   },
   "source": [
    "## **ASK**\n",
    "\n",
    "1. What is the problem I am trying to solve?\n",
    "2. How will my insights drive business decisions?\n",
    "3. Who are the stakeholders?\n",
    "4. How is the data collected?\n",
    "5. What are the timing and target audience for the company's marketing campaigns?"
   ]
  },
  {
   "cell_type": "markdown",
   "metadata": {},
   "source": [
    "## **Business Statement**\n",
    "\n",
    "**As a data analyst, my task is to identify trends and patterns among casual riders and membership riders to maximize the number of annual memberships. By analyzing this data, I aim to identify potential riders who would benefit from an annual membership. It is important to note that raising awareness of the annual membership program among casual riders is not necessary, as they are already aware of it.**"
   ]
  },
  {
   "cell_type": "markdown",
   "id": "9e9a8ff4",
   "metadata": {
    "papermill": {
     "duration": 0.012293,
     "end_time": "2022-09-02T22:39:01.870173",
     "exception": false,
     "start_time": "2022-09-02T22:39:01.857880",
     "status": "completed"
    },
    "tags": []
   },
   "source": [
    "# **PREPARE**"
   ]
  },
  {
   "cell_type": "markdown",
   "id": "a1b4cc88",
   "metadata": {
    "papermill": {
     "duration": 0.011845,
     "end_time": "2022-09-02T22:39:01.894066",
     "exception": false,
     "start_time": "2022-09-02T22:39:01.882221",
     "status": "completed"
    },
    "tags": []
   },
   "source": [
    "1. The data is organized into CSV files, with each file representing a month's worth of data.\n",
    "2. ROCCC criteria is checked and fulfilled.\n",
    "3. Licensing, privacy, security, and accessibility has been noted and informed."
   ]
  },
  {
   "cell_type": "markdown",
   "id": "c37174c4",
   "metadata": {
    "papermill": {
     "duration": 0.011144,
     "end_time": "2022-09-02T22:39:01.916813",
     "exception": false,
     "start_time": "2022-09-02T22:39:01.905669",
     "status": "completed"
    },
    "tags": []
   },
   "source": [
    "## **IMPORTANT**\n",
    "\n",
    "Since Cyclistic is a fictional company, I will use Divvy’s, a bike-share program based in Chicago, data from May 2023 – April 2024 to complete this case study. To download the data, please use [this link](http://divvy-tripdata.s3.amazonaws.com/index.html). This data was made public by Motivate International Inc, under [this license](http://www.divvybikes.com/data-license-agreement). Due to data privacy issues, personal information has been removed or encrypted. This means that I won’t be able to connect pass purchases to credit card numbers to determine if casual riders live in the Cyclistic service area or if they have purchased multiple single passes."
   ]
  },
  {
   "cell_type": "code",
   "execution_count": 1,
   "id": "30e73fa9",
   "metadata": {
    "execution": {
     "iopub.execute_input": "2022-09-02T22:39:01.944468Z",
     "iopub.status.busy": "2022-09-02T22:39:01.941612Z",
     "iopub.status.idle": "2022-09-02T22:39:03.386213Z",
     "shell.execute_reply": "2022-09-02T22:39:03.384325Z"
    },
    "papermill": {
     "duration": 1.4606,
     "end_time": "2022-09-02T22:39:03.388720",
     "exception": false,
     "start_time": "2022-09-02T22:39:01.928120",
     "status": "completed"
    },
    "tags": [],
    "vscode": {
     "languageId": "r"
    }
   },
   "outputs": [
    {
     "name": "stderr",
     "output_type": "stream",
     "text": [
      "── \u001b[1mAttaching core tidyverse packages\u001b[22m ──────────────────────── tidyverse 2.0.0 ──\n",
      "\u001b[32m✔\u001b[39m \u001b[34mdplyr    \u001b[39m 1.1.4     \u001b[32m✔\u001b[39m \u001b[34mreadr    \u001b[39m 2.1.5\n",
      "\u001b[32m✔\u001b[39m \u001b[34mforcats  \u001b[39m 1.0.0     \u001b[32m✔\u001b[39m \u001b[34mstringr  \u001b[39m 1.5.1\n",
      "\u001b[32m✔\u001b[39m \u001b[34mggplot2  \u001b[39m 3.5.1     \u001b[32m✔\u001b[39m \u001b[34mtibble   \u001b[39m 3.2.1\n",
      "\u001b[32m✔\u001b[39m \u001b[34mlubridate\u001b[39m 1.9.3     \u001b[32m✔\u001b[39m \u001b[34mtidyr    \u001b[39m 1.3.1\n",
      "\u001b[32m✔\u001b[39m \u001b[34mpurrr    \u001b[39m 1.0.2     \n",
      "── \u001b[1mConflicts\u001b[22m ────────────────────────────────────────── tidyverse_conflicts() ──\n",
      "\u001b[31m✖\u001b[39m \u001b[34mdplyr\u001b[39m::\u001b[32mfilter()\u001b[39m masks \u001b[34mstats\u001b[39m::filter()\n",
      "\u001b[31m✖\u001b[39m \u001b[34mdplyr\u001b[39m::\u001b[32mlag()\u001b[39m    masks \u001b[34mstats\u001b[39m::lag()\n",
      "\u001b[36mℹ\u001b[39m Use the conflicted package (\u001b[3m\u001b[34m<http://conflicted.r-lib.org/>\u001b[39m\u001b[23m) to force all conflicts to become errors\n"
     ]
    }
   ],
   "source": [
    "library(tidyverse)\n",
    "library(lubridate)\n",
    "library(ggplot2)\n",
    "library(dplyr)\n",
    "library(tidyr)\n",
    "library(geosphere)"
   ]
  },
  {
   "cell_type": "markdown",
   "metadata": {},
   "source": [
    "1. **tidyverse**: \n",
    "   The `tidyverse` is a collection of R packages designed for data science. All packages share an underlying design philosophy, grammar, and data structures. It includes packages like `ggplot2`, `dplyr`, `tidyr`, `readr`, `purrr`, and `tibble`. Using `tidyverse` simplifies the process of data manipulation, visualization, and analysis.\n",
    "\n",
    "2. **lubridate**:\n",
    "   The `lubridate` package makes it easier to work with dates and times in R. It provides functions to parse dates, extract and modify components of a date-time, perform arithmetic operations on dates, and handle time zones. It helps in dealing with date-time data more intuitively and efficiently.\n",
    "\n",
    "3. **ggplot2**:\n",
    "   `ggplot2` is a powerful and widely-used data visualization package in R. It allows you to create complex and multi-layered graphics using a consistent and expressive grammar of graphics. It enables you to create high-quality plots with fine control over aesthetics, themes, and other graphical parameters.\n",
    "\n",
    "4. **dplyr**:\n",
    "   The `dplyr` package is designed for data manipulation and transformation. It provides a set of functions (verbs) that help you select, filter, arrange, summarize, and mutate data frames in a concise and readable way. It is particularly known for its chaining or piping functionality, which allows for cleaner and more efficient data manipulation workflows.\n",
    "\n",
    "5. **tidyr**:\n",
    "   `tidyr` helps in cleaning and tidying data. It provides functions to reshape and reorganize data into a tidy format, where each variable is a column, each observation is a row, and each type of observational unit forms a table. Key functions include `gather`, `spread`, `separate`, and `unite`, which help transform data between wide and long formats and handle nested or complex data structures.\n",
    "\n",
    "6. **Geosphere**: \n",
    "The `geosphere` package in R provides functions for geographic calculations and spatial data analysis. It allows users to compute distances, areas, and other geometric properties for data points defined by latitude and longitude. Key functionalities include calculating the shortest path between points on the Earth's surface, finding midpoints, and determining the area of polygons. This package is particularly useful for geospatial analysis and mapping applications."
   ]
  },
  {
   "cell_type": "markdown",
   "metadata": {},
   "source": [
    "Now, we will read the trip data collected over the past 12 months, from May 2023 to April 2024."
   ]
  },
  {
   "cell_type": "code",
   "execution_count": 2,
   "id": "04820804",
   "metadata": {
    "execution": {
     "iopub.execute_input": "2022-09-02T22:39:03.690752Z",
     "iopub.status.busy": "2022-09-02T22:39:03.688799Z",
     "iopub.status.idle": "2022-09-02T22:40:17.086064Z",
     "shell.execute_reply": "2022-09-02T22:40:17.084103Z"
    },
    "papermill": {
     "duration": 73.414086,
     "end_time": "2022-09-02T22:40:17.089122",
     "exception": false,
     "start_time": "2022-09-02T22:39:03.675036",
     "status": "completed"
    },
    "tags": [],
    "vscode": {
     "languageId": "r"
    }
   },
   "outputs": [],
   "source": [
    "tripdata_2023_05 <- read.csv(\"Data/202305-divvy-tripdata.csv\")\n",
    "tripdata_2023_06 <- read.csv(\"Data/202306-divvy-tripdata.csv\")\n",
    "tripdata_2023_07 <- read.csv(\"Data/202307-divvy-tripdata.csv\")\n",
    "tripdata_2023_08 <- read.csv(\"Data/202308-divvy-tripdata.csv\")\n",
    "tripdata_2023_09 <- read.csv(\"Data/202309-divvy-tripdata.csv\")\n",
    "tripdata_2023_10 <- read.csv(\"Data/202310-divvy-tripdata.csv\")\n",
    "tripdata_2023_11 <- read.csv(\"Data/202311-divvy-tripdata.csv\")\n",
    "tripdata_2023_12 <- read.csv(\"Data/202312-divvy-tripdata.csv\")\n",
    "tripdata_2024_01 <- read.csv(\"Data/202401-divvy-tripdata.csv\")\n",
    "tripdata_2024_02 <- read.csv(\"Data/202402-divvy-tripdata.csv\")\n",
    "tripdata_2024_03 <- read.csv(\"Data/202403-divvy-tripdata.csv\")\n",
    "tripdata_2024_04 <- read.csv(\"Data/202404-divvy-tripdata.csv\")"
   ]
  },
  {
   "cell_type": "markdown",
   "metadata": {},
   "source": [
    "## **Cleaning Data**\n",
    "\n",
    "1. Verifying column names and data types to ensure consistency and usability."
   ]
  },
  {
   "cell_type": "code",
   "execution_count": 3,
   "id": "f5bc20d4",
   "metadata": {
    "execution": {
     "iopub.execute_input": "2022-09-02T22:40:17.120139Z",
     "iopub.status.busy": "2022-09-02T22:40:17.118465Z",
     "iopub.status.idle": "2022-09-02T22:40:17.205396Z",
     "shell.execute_reply": "2022-09-02T22:40:17.203396Z"
    },
    "papermill": {
     "duration": 0.104012,
     "end_time": "2022-09-02T22:40:17.207930",
     "exception": false,
     "start_time": "2022-09-02T22:40:17.103918",
     "status": "completed"
    },
    "tags": [],
    "vscode": {
     "languageId": "r"
    }
   },
   "outputs": [
    {
     "name": "stdout",
     "output_type": "stream",
     "text": [
      "[1] \"May 2023\"\n",
      "'data.frame':\t604827 obs. of  13 variables:\n",
      " $ ride_id           : chr  \"0D9FA920C3062031\" \"92485E5FB5888ACD\" \"FB144B3FC8300187\" \"DDEB93BC2CE9AA77\" ...\n",
      " $ rideable_type     : chr  \"electric_bike\" \"electric_bike\" \"electric_bike\" \"classic_bike\" ...\n",
      " $ started_at        : chr  \"2023-05-07 19:53:48\" \"2023-05-06 18:54:08\" \"2023-05-21 00:40:21\" \"2023-05-10 16:47:01\" ...\n",
      " $ ended_at          : chr  \"2023-05-07 19:58:32\" \"2023-05-06 19:03:35\" \"2023-05-21 00:44:36\" \"2023-05-10 16:59:52\" ...\n",
      " $ start_station_name: chr  \"Southport Ave & Belmont Ave\" \"Southport Ave & Belmont Ave\" \"Halsted St & 21st St\" \"Carpenter St & Huron St\" ...\n",
      " $ start_station_id  : chr  \"13229\" \"13229\" \"13162\" \"13196\" ...\n",
      " $ end_station_name  : chr  \"\" \"\" \"\" \"Damen Ave & Cortland St\" ...\n",
      " $ end_station_id    : chr  \"\" \"\" \"\" \"13133\" ...\n",
      " $ start_lat         : num  41.9 41.9 41.9 41.9 42 ...\n",
      " $ start_lng         : num  -87.7 -87.7 -87.6 -87.7 -87.7 ...\n",
      " $ end_lat           : num  41.9 41.9 41.9 41.9 41.9 ...\n",
      " $ end_lng           : num  -87.7 -87.7 -87.7 -87.7 -87.7 ...\n",
      " $ member_casual     : chr  \"member\" \"member\" \"member\" \"member\" ...\n",
      "[1] \"June 2023\"\n",
      "'data.frame':\t719618 obs. of  13 variables:\n",
      " $ ride_id           : chr  \"6F1682AC40EB6F71\" \"622A1686D64948EB\" \"3C88859D926253B4\" \"EAD8A5E0259DEC88\" ...\n",
      " $ rideable_type     : chr  \"electric_bike\" \"electric_bike\" \"electric_bike\" \"electric_bike\" ...\n",
      " $ started_at        : chr  \"2023-06-05 13:34:12\" \"2023-06-05 01:30:22\" \"2023-06-20 18:15:49\" \"2023-06-19 14:56:00\" ...\n",
      " $ ended_at          : chr  \"2023-06-05 14:31:56\" \"2023-06-05 01:33:06\" \"2023-06-20 18:32:05\" \"2023-06-19 15:00:35\" ...\n",
      " $ start_station_name: chr  \"\" \"\" \"\" \"\" ...\n",
      " $ start_station_id  : chr  \"\" \"\" \"\" \"\" ...\n",
      " $ end_station_name  : chr  \"\" \"\" \"\" \"\" ...\n",
      " $ end_station_id    : chr  \"\" \"\" \"\" \"\" ...\n",
      " $ start_lat         : num  41.9 41.9 42 42 42 ...\n",
      " $ start_lng         : num  -87.7 -87.7 -87.7 -87.7 -87.7 ...\n",
      " $ end_lat           : num  41.9 41.9 41.9 42 42 ...\n",
      " $ end_lng           : num  -87.7 -87.7 -87.6 -87.7 -87.7 ...\n",
      " $ member_casual     : chr  \"member\" \"member\" \"member\" \"member\" ...\n",
      "[1] \"July 2023\"\n",
      "'data.frame':\t767650 obs. of  13 variables:\n",
      " $ ride_id           : chr  \"9340B064F0AEE130\" \"D1460EE3CE0D8AF8\" \"DF41BE31B895A25E\" \"9624A293749EF703\" ...\n",
      " $ rideable_type     : chr  \"electric_bike\" \"classic_bike\" \"classic_bike\" \"electric_bike\" ...\n",
      " $ started_at        : chr  \"2023-07-23 20:06:14\" \"2023-07-23 17:05:07\" \"2023-07-23 10:14:53\" \"2023-07-21 08:27:44\" ...\n",
      " $ ended_at          : chr  \"2023-07-23 20:22:44\" \"2023-07-23 17:18:37\" \"2023-07-23 10:24:29\" \"2023-07-21 08:32:40\" ...\n",
      " $ start_station_name: chr  \"Kedzie Ave & 110th St\" \"Western Ave & Walton St\" \"Western Ave & Walton St\" \"Racine Ave & Randolph St\" ...\n",
      " $ start_station_id  : chr  \"20204\" \"KA1504000103\" \"KA1504000103\" \"13155\" ...\n",
      " $ end_station_name  : chr  \"Public Rack - Racine Ave & 109th Pl\" \"Milwaukee Ave & Grand Ave\" \"Damen Ave & Pierce Ave\" \"Clinton St & Madison St\" ...\n",
      " $ end_station_id    : chr  \"877\" \"13033\" \"TA1305000041\" \"TA1305000032\" ...\n",
      " $ start_lat         : num  41.7 41.9 41.9 41.9 42 ...\n",
      " $ start_lng         : num  -87.7 -87.7 -87.7 -87.7 -87.7 ...\n",
      " $ end_lat           : num  41.7 41.9 41.9 41.9 42 ...\n",
      " $ end_lng           : num  -87.7 -87.6 -87.7 -87.6 -87.6 ...\n",
      " $ member_casual     : chr  \"member\" \"member\" \"member\" \"member\" ...\n",
      "[1] \"August 2023\"\n",
      "'data.frame':\t771693 obs. of  13 variables:\n",
      " $ ride_id           : chr  \"903C30C2D810A53B\" \"F2FB18A98E110A2B\" \"D0DEC7C94E4663DA\" \"E0DDDC5F84747ED9\" ...\n",
      " $ rideable_type     : chr  \"electric_bike\" \"electric_bike\" \"electric_bike\" \"electric_bike\" ...\n",
      " $ started_at        : chr  \"2023-08-19 15:41:53\" \"2023-08-18 15:30:18\" \"2023-08-30 16:15:08\" \"2023-08-30 16:24:07\" ...\n",
      " $ ended_at          : chr  \"2023-08-19 15:53:36\" \"2023-08-18 15:45:25\" \"2023-08-30 16:27:37\" \"2023-08-30 16:33:34\" ...\n",
      " $ start_station_name: chr  \"LaSalle St & Illinois St\" \"Clark St & Randolph St\" \"Clark St & Randolph St\" \"Wells St & Elm St\" ...\n",
      " $ start_station_id  : chr  \"13430\" \"TA1305000030\" \"TA1305000030\" \"KA1504000135\" ...\n",
      " $ end_station_name  : chr  \"Clark St & Elm St\" \"\" \"\" \"\" ...\n",
      " $ end_station_id    : chr  \"TA1307000039\" \"\" \"\" \"\" ...\n",
      " $ start_lat         : num  41.9 41.9 41.9 41.9 41.9 ...\n",
      " $ start_lng         : num  -87.6 -87.6 -87.6 -87.6 -87.6 ...\n",
      " $ end_lat           : num  41.9 41.9 41.9 41.9 41.9 ...\n",
      " $ end_lng           : num  -87.6 -87.6 -87.6 -87.6 -87.7 ...\n",
      " $ member_casual     : chr  \"member\" \"member\" \"member\" \"member\" ...\n",
      "[1] \"September 2023\"\n",
      "'data.frame':\t666371 obs. of  13 variables:\n",
      " $ ride_id           : chr  \"011C1903BF4E2E28\" \"87DB80E048A1BF9F\" \"7C2EB7AF669066E3\" \"57D197B010269CE3\" ...\n",
      " $ rideable_type     : chr  \"classic_bike\" \"classic_bike\" \"electric_bike\" \"classic_bike\" ...\n",
      " $ started_at        : chr  \"2023-09-23 00:27:50\" \"2023-09-02 09:26:43\" \"2023-09-25 18:30:11\" \"2023-09-13 15:30:49\" ...\n",
      " $ ended_at          : chr  \"2023-09-23 00:33:27\" \"2023-09-02 09:38:19\" \"2023-09-25 18:41:39\" \"2023-09-13 15:39:18\" ...\n",
      " $ start_station_name: chr  \"Halsted St & Wrightwood Ave\" \"Clark St & Drummond Pl\" \"Financial Pl & Ida B Wells Dr\" \"Clark St & Drummond Pl\" ...\n",
      " $ start_station_id  : chr  \"TA1309000061\" \"TA1307000142\" \"SL-010\" \"TA1307000142\" ...\n",
      " $ end_station_name  : chr  \"Sheffield Ave & Wellington Ave\" \"Racine Ave & Fullerton Ave\" \"Racine Ave & 15th St\" \"Racine Ave & Belmont Ave\" ...\n",
      " $ end_station_id    : chr  \"TA1307000052\" \"TA1306000026\" \"13304\" \"TA1308000019\" ...\n",
      " $ start_lat         : num  41.9 41.9 41.9 41.9 41.9 ...\n",
      " $ start_lng         : num  -87.6 -87.6 -87.6 -87.6 -87.6 ...\n",
      " $ end_lat           : num  41.9 41.9 41.9 41.9 41.9 ...\n",
      " $ end_lng           : num  -87.7 -87.7 -87.7 -87.7 -87.7 ...\n",
      " $ member_casual     : chr  \"member\" \"member\" \"member\" \"member\" ...\n",
      "[1] \"October 2023\"\n"
     ]
    },
    {
     "name": "stdout",
     "output_type": "stream",
     "text": [
      "'data.frame':\t537113 obs. of  13 variables:\n",
      " $ ride_id           : chr  \"4449097279F8BBE7\" \"9CF060543CA7B439\" \"667F21F4D6BDE69C\" \"F92714CC6B019B96\" ...\n",
      " $ rideable_type     : chr  \"classic_bike\" \"electric_bike\" \"electric_bike\" \"classic_bike\" ...\n",
      " $ started_at        : chr  \"2023-10-08 10:36:26\" \"2023-10-11 17:23:59\" \"2023-10-12 07:02:33\" \"2023-10-24 19:13:03\" ...\n",
      " $ ended_at          : chr  \"2023-10-08 10:49:19\" \"2023-10-11 17:36:08\" \"2023-10-12 07:06:53\" \"2023-10-24 19:18:29\" ...\n",
      " $ start_station_name: chr  \"Orleans St & Chestnut St (NEXT Apts)\" \"Desplaines St & Kinzie St\" \"Orleans St & Chestnut St (NEXT Apts)\" \"Desplaines St & Kinzie St\" ...\n",
      " $ start_station_id  : chr  \"620\" \"TA1306000003\" \"620\" \"TA1306000003\" ...\n",
      " $ end_station_name  : chr  \"Sheffield Ave & Webster Ave\" \"Sheffield Ave & Webster Ave\" \"Franklin St & Lake St\" \"Franklin St & Lake St\" ...\n",
      " $ end_station_id    : chr  \"TA1309000033\" \"TA1309000033\" \"TA1307000111\" \"TA1307000111\" ...\n",
      " $ start_lat         : num  41.9 41.9 41.9 41.9 41.9 ...\n",
      " $ start_lng         : num  -87.6 -87.6 -87.6 -87.6 -87.6 ...\n",
      " $ end_lat           : num  41.9 41.9 41.9 41.9 41.9 ...\n",
      " $ end_lng           : num  -87.7 -87.7 -87.6 -87.6 -87.6 ...\n",
      " $ member_casual     : chr  \"member\" \"member\" \"member\" \"member\" ...\n",
      "[1] \"November 2023\"\n",
      "'data.frame':\t362518 obs. of  13 variables:\n",
      " $ ride_id           : chr  \"4EAD8F1AD547356B\" \"6322270563BF5470\" \"B37BDE091ECA38E0\" \"CF0CA5DD26E4F90E\" ...\n",
      " $ rideable_type     : chr  \"electric_bike\" \"electric_bike\" \"electric_bike\" \"classic_bike\" ...\n",
      " $ started_at        : chr  \"2023-11-30 21:50:05\" \"2023-11-03 09:44:02\" \"2023-11-30 11:39:44\" \"2023-11-08 10:01:45\" ...\n",
      " $ ended_at          : chr  \"2023-11-30 22:13:27\" \"2023-11-03 10:17:15\" \"2023-11-30 11:40:08\" \"2023-11-08 10:27:05\" ...\n",
      " $ start_station_name: chr  \"Millennium Park\" \"Broadway & Sheridan Rd\" \"State St & Pearson St\" \"Theater on the Lake\" ...\n",
      " $ start_station_id  : chr  \"13008\" \"13323\" \"TA1307000061\" \"TA1308000001\" ...\n",
      " $ end_station_name  : chr  \"Pine Grove Ave & Waveland Ave\" \"Broadway & Sheridan Rd\" \"State St & Pearson St\" \"Theater on the Lake\" ...\n",
      " $ end_station_id    : chr  \"TA1307000150\" \"13323\" \"TA1307000061\" \"TA1308000001\" ...\n",
      " $ start_lat         : num  41.9 42 41.9 41.9 41.9 ...\n",
      " $ start_lng         : num  -87.6 -87.7 -87.6 -87.6 -87.6 ...\n",
      " $ end_lat           : num  41.9 42 41.9 41.9 41.9 ...\n",
      " $ end_lng           : num  -87.6 -87.6 -87.6 -87.6 -87.6 ...\n",
      " $ member_casual     : chr  \"member\" \"member\" \"member\" \"member\" ...\n",
      "[1] \"December 2024\"\n",
      "'data.frame':\t224073 obs. of  13 variables:\n",
      " $ ride_id           : chr  \"C9BD54F578F57246\" \"CDBD92F067FA620E\" \"ABC0858E52CBFC84\" \"F44B6F0E8F76DC90\" ...\n",
      " $ rideable_type     : chr  \"electric_bike\" \"electric_bike\" \"electric_bike\" \"electric_bike\" ...\n",
      " $ started_at        : chr  \"2023-12-02 18:44:01\" \"2023-12-02 18:48:19\" \"2023-12-24 01:56:32\" \"2023-12-24 10:58:12\" ...\n",
      " $ ended_at          : chr  \"2023-12-02 18:47:51\" \"2023-12-02 18:54:48\" \"2023-12-24 02:04:09\" \"2023-12-24 11:03:04\" ...\n",
      " $ start_station_name: chr  \"\" \"\" \"\" \"\" ...\n",
      " $ start_station_id  : chr  \"\" \"\" \"\" \"\" ...\n",
      " $ end_station_name  : chr  \"\" \"\" \"\" \"\" ...\n",
      " $ end_station_id    : chr  \"\" \"\" \"\" \"\" ...\n",
      " $ start_lat         : num  41.9 41.9 41.9 42 41.9 ...\n",
      " $ start_lng         : num  -87.7 -87.7 -87.6 -87.7 -87.6 ...\n",
      " $ end_lat           : num  41.9 41.9 41.9 41.9 41.9 ...\n",
      " $ end_lng           : num  -87.7 -87.6 -87.6 -87.7 -87.6 ...\n",
      " $ member_casual     : chr  \"member\" \"member\" \"member\" \"member\" ...\n",
      "[1] \"January 2024\"\n",
      "'data.frame':\t144873 obs. of  13 variables:\n",
      " $ ride_id           : chr  \"C1D650626C8C899A\" \"EECD38BDB25BFCB0\" \"F4A9CE78061F17F7\" \"0A0D9E15EE50B171\" ...\n",
      " $ rideable_type     : chr  \"electric_bike\" \"electric_bike\" \"electric_bike\" \"classic_bike\" ...\n",
      " $ started_at        : chr  \"2024-01-12 15:30:27\" \"2024-01-08 15:45:46\" \"2024-01-27 12:27:19\" \"2024-01-29 16:26:17\" ...\n",
      " $ ended_at          : chr  \"2024-01-12 15:37:59\" \"2024-01-08 15:52:59\" \"2024-01-27 12:35:19\" \"2024-01-29 16:56:06\" ...\n",
      " $ start_station_name: chr  \"Wells St & Elm St\" \"Wells St & Elm St\" \"Wells St & Elm St\" \"Wells St & Randolph St\" ...\n",
      " $ start_station_id  : chr  \"KA1504000135\" \"KA1504000135\" \"KA1504000135\" \"TA1305000030\" ...\n",
      " $ end_station_name  : chr  \"Kingsbury St & Kinzie St\" \"Kingsbury St & Kinzie St\" \"Kingsbury St & Kinzie St\" \"Larrabee St & Webster Ave\" ...\n",
      " $ end_station_id    : chr  \"KA1503000043\" \"KA1503000043\" \"KA1503000043\" \"13193\" ...\n",
      " $ start_lat         : num  41.9 41.9 41.9 41.9 41.9 ...\n",
      " $ start_lng         : num  -87.6 -87.6 -87.6 -87.6 -87.7 ...\n",
      " $ end_lat           : num  41.9 41.9 41.9 41.9 41.9 ...\n",
      " $ end_lng           : num  -87.6 -87.6 -87.6 -87.6 -87.6 ...\n",
      " $ member_casual     : chr  \"member\" \"member\" \"member\" \"member\" ...\n",
      "[1] \"February 2024\"\n",
      "'data.frame':\t223164 obs. of  13 variables:\n",
      " $ ride_id           : chr  \"FCB05EB1758F85E8\" \"7FB986AD5D3DE9D6\" \"40CA13E15B5B470D\" \"D47A1660919E8861\" ...\n",
      " $ rideable_type     : chr  \"classic_bike\" \"classic_bike\" \"electric_bike\" \"classic_bike\" ...\n",
      " $ started_at        : chr  \"2024-02-03 14:14:18\" \"2024-02-05 21:10:06\" \"2024-02-05 15:10:44\" \"2024-02-15 12:40:34\" ...\n",
      " $ ended_at          : chr  \"2024-02-03 14:21:00\" \"2024-02-05 21:15:44\" \"2024-02-05 15:12:32\" \"2024-02-15 12:44:24\" ...\n",
      " $ start_station_name: chr  \"Clark St & Newport St\" \"Michigan Ave & Washington St\" \"Leavitt St & Armitage Ave\" \"Southport Ave & Waveland Ave\" ...\n",
      " $ start_station_id  : chr  \"632\" \"13001\" \"TA1309000029\" \"13235\" ...\n",
      " $ end_station_name  : chr  \"Southport Ave & Waveland Ave\" \"Wabash Ave & Grand Ave\" \"Milwaukee Ave & Wabansia Ave\" \"Southport Ave & Belmont Ave\" ...\n",
      " $ end_station_id    : chr  \"13235\" \"TA1307000117\" \"13243\" \"13229\" ...\n",
      " $ start_lat         : num  41.9 41.9 41.9 41.9 41.8 ...\n",
      " $ start_lng         : num  -87.7 -87.6 -87.7 -87.7 -87.6 ...\n",
      " $ end_lat           : num  41.9 41.9 41.9 41.9 41.8 ...\n",
      " $ end_lng           : num  -87.7 -87.6 -87.7 -87.7 -87.6 ...\n",
      " $ member_casual     : chr  \"member\" \"member\" \"member\" \"member\" ...\n",
      "[1] \"March 2024\"\n",
      "'data.frame':\t301687 obs. of  13 variables:\n",
      " $ ride_id           : chr  \"64FBE3BAED5F29E6\" \"9991629435C5E20E\" \"E5C9FECD5B71BEBD\" \"4CEA3EC8906DAEA8\" ...\n",
      " $ rideable_type     : chr  \"electric_bike\" \"electric_bike\" \"electric_bike\" \"electric_bike\" ...\n",
      " $ started_at        : chr  \"2024-03-05 18:33:11\" \"2024-03-06 17:15:14\" \"2024-03-06 17:16:36\" \"2024-03-03 22:55:54\" ...\n",
      " $ ended_at          : chr  \"2024-03-05 18:51:48\" \"2024-03-06 17:16:04\" \"2024-03-06 17:19:28\" \"2024-03-03 22:58:08\" ...\n",
      " $ start_station_name: chr  \"\" \"\" \"\" \"\" ...\n",
      " $ start_station_id  : chr  \"\" \"\" \"\" \"\" ...\n",
      " $ end_station_name  : chr  \"\" \"\" \"\" \"\" ...\n",
      " $ end_station_id    : chr  \"\" \"\" \"\" \"\" ...\n",
      " $ start_lat         : num  41.9 41.9 41.9 41.9 41.9 ...\n",
      " $ start_lng         : num  -87.7 -87.6 -87.6 -87.6 -87.7 ...\n",
      " $ end_lat           : num  42 41.9 41.9 41.9 41.9 ...\n",
      " $ end_lng           : num  -87.7 -87.6 -87.6 -87.6 -87.7 ...\n",
      " $ member_casual     : chr  \"member\" \"member\" \"member\" \"member\" ...\n",
      "[1] \"April 2023\"\n",
      "'data.frame':\t415025 obs. of  13 variables:\n",
      " $ ride_id           : chr  \"743252713F32516B\" \"BE90D33D2240C614\" \"D47BBDDE7C40DD61\" \"6684E760BF9EA9B5\" ...\n",
      " $ rideable_type     : chr  \"classic_bike\" \"electric_bike\" \"classic_bike\" \"classic_bike\" ...\n",
      " $ started_at        : chr  \"2024-04-22 19:08:21\" \"2024-04-11 06:19:24\" \"2024-04-20 11:13:13\" \"2024-04-04 18:39:20\" ...\n",
      " $ ended_at          : chr  \"2024-04-22 19:12:56\" \"2024-04-11 06:22:21\" \"2024-04-20 11:29:31\" \"2024-04-04 18:43:06\" ...\n",
      " $ start_station_name: chr  \"Aberdeen St & Jackson Blvd\" \"Aberdeen St & Jackson Blvd\" \"Sheridan Rd & Montrose Ave\" \"Aberdeen St & Jackson Blvd\" ...\n",
      " $ start_station_id  : chr  \"13157\" \"13157\" \"TA1307000107\" \"13157\" ...\n",
      " $ end_station_name  : chr  \"Desplaines St & Jackson Blvd\" \"Desplaines St & Jackson Blvd\" \"Ashland Ave & Belle Plaine Ave\" \"Desplaines St & Jackson Blvd\" ...\n",
      " $ end_station_id    : chr  \"15539\" \"15539\" \"13249\" \"15539\" ...\n",
      " $ start_lat         : num  41.9 41.9 42 41.9 42 ...\n",
      " $ start_lng         : num  -87.7 -87.7 -87.7 -87.7 -87.7 ...\n",
      " $ end_lat           : num  41.9 41.9 42 41.9 41.9 ...\n",
      " $ end_lng           : num  -87.6 -87.6 -87.7 -87.6 -87.6 ...\n",
      " $ member_casual     : chr  \"member\" \"member\" \"member\" \"member\" ...\n"
     ]
    }
   ],
   "source": [
    "print(\"May 2023\")\n",
    "str(tripdata_2023_05)\n",
    "\n",
    "print(\"June 2023\")\n",
    "str(tripdata_2023_06)\n",
    "\n",
    "print(\"July 2023\")\n",
    "str(tripdata_2023_07)\n",
    "\n",
    "print(\"August 2023\")\n",
    "str(tripdata_2023_08)\n",
    "\n",
    "print(\"September 2023\")\n",
    "str(tripdata_2023_09)\n",
    "\n",
    "print(\"October 2023\")\n",
    "str(tripdata_2023_10)\n",
    "\n",
    "print(\"November 2023\")\n",
    "str(tripdata_2023_11)\n",
    "\n",
    "print(\"December 2024\")\n",
    "str(tripdata_2023_12)\n",
    "\n",
    "print(\"January 2024\")\n",
    "str(tripdata_2024_01)\n",
    "\n",
    "print(\"February 2024\")\n",
    "str(tripdata_2024_02)\n",
    "\n",
    "print(\"March 2024\")\n",
    "str(tripdata_2024_03)\n",
    "\n",
    "print(\"April 2023\")\n",
    "str(tripdata_2024_04)"
   ]
  },
  {
   "cell_type": "markdown",
   "metadata": {},
   "source": [
    "2. Consolidating data from all 12 months into a unified data frame."
   ]
  },
  {
   "cell_type": "code",
   "execution_count": 4,
   "id": "545a611c",
   "metadata": {
    "execution": {
     "iopub.execute_input": "2022-09-02T22:40:18.851767Z",
     "iopub.status.busy": "2022-09-02T22:40:18.849642Z",
     "iopub.status.idle": "2022-09-02T22:40:28.789731Z",
     "shell.execute_reply": "2022-09-02T22:40:28.787770Z"
    },
    "papermill": {
     "duration": 9.95878,
     "end_time": "2022-09-02T22:40:28.792116",
     "exception": false,
     "start_time": "2022-09-02T22:40:18.833336",
     "status": "completed"
    },
    "tags": [],
    "vscode": {
     "languageId": "r"
    }
   },
   "outputs": [
    {
     "data": {
      "text/plain": [
       "   ride_id          rideable_type       started_at          ended_at        \n",
       " Length:5738612     Length:5738612     Length:5738612     Length:5738612    \n",
       " Class :character   Class :character   Class :character   Class :character  \n",
       " Mode  :character   Mode  :character   Mode  :character   Mode  :character  \n",
       "                                                                            \n",
       "                                                                            \n",
       "                                                                            \n",
       "                                                                            \n",
       " start_station_name start_station_id   end_station_name   end_station_id    \n",
       " Length:5738612     Length:5738612     Length:5738612     Length:5738612    \n",
       " Class :character   Class :character   Class :character   Class :character  \n",
       " Mode  :character   Mode  :character   Mode  :character   Mode  :character  \n",
       "                                                                            \n",
       "                                                                            \n",
       "                                                                            \n",
       "                                                                            \n",
       "   start_lat       start_lng         end_lat         end_lng      \n",
       " Min.   :41.63   Min.   :-87.94   Min.   : 0.00   Min.   :-88.16  \n",
       " 1st Qu.:41.88   1st Qu.:-87.66   1st Qu.:41.88   1st Qu.:-87.66  \n",
       " Median :41.90   Median :-87.64   Median :41.90   Median :-87.64  \n",
       " Mean   :41.90   Mean   :-87.65   Mean   :41.90   Mean   :-87.65  \n",
       " 3rd Qu.:41.93   3rd Qu.:-87.63   3rd Qu.:41.93   3rd Qu.:-87.63  \n",
       " Max.   :42.07   Max.   :-87.46   Max.   :42.18   Max.   :  0.00  \n",
       "                                  NA's   :7610    NA's   :7610    \n",
       " member_casual     \n",
       " Length:5738612    \n",
       " Class :character  \n",
       " Mode  :character  \n",
       "                   \n",
       "                   \n",
       "                   \n",
       "                   "
      ]
     },
     "metadata": {},
     "output_type": "display_data"
    }
   ],
   "source": [
    "year_trips_all <- bind_rows(tripdata_2023_05, tripdata_2023_06, tripdata_2023_07, tripdata_2023_08, tripdata_2023_09, tripdata_2023_10, tripdata_2023_11, tripdata_2023_12, tripdata_2024_01, tripdata_2024_02, tripdata_2024_03, tripdata_2024_04)\n",
    "summary(year_trips_all)"
   ]
  },
  {
   "cell_type": "markdown",
   "metadata": {},
   "source": [
    "3. Removing columns with no importance for analysis such as start station and end station name and id."
   ]
  },
  {
   "cell_type": "code",
   "execution_count": 5,
   "metadata": {
    "vscode": {
     "languageId": "r"
    }
   },
   "outputs": [
    {
     "data": {
      "text/plain": [
       "   ride_id          rideable_type       started_at          ended_at        \n",
       " Length:5738612     Length:5738612     Length:5738612     Length:5738612    \n",
       " Class :character   Class :character   Class :character   Class :character  \n",
       " Mode  :character   Mode  :character   Mode  :character   Mode  :character  \n",
       "                                                                            \n",
       "                                                                            \n",
       "                                                                            \n",
       "                                                                            \n",
       "   start_lat       start_lng         end_lat         end_lng      \n",
       " Min.   :41.63   Min.   :-87.94   Min.   : 0.00   Min.   :-88.16  \n",
       " 1st Qu.:41.88   1st Qu.:-87.66   1st Qu.:41.88   1st Qu.:-87.66  \n",
       " Median :41.90   Median :-87.64   Median :41.90   Median :-87.64  \n",
       " Mean   :41.90   Mean   :-87.65   Mean   :41.90   Mean   :-87.65  \n",
       " 3rd Qu.:41.93   3rd Qu.:-87.63   3rd Qu.:41.93   3rd Qu.:-87.63  \n",
       " Max.   :42.07   Max.   :-87.46   Max.   :42.18   Max.   :  0.00  \n",
       "                                  NA's   :7610    NA's   :7610    \n",
       " member_casual     \n",
       " Length:5738612    \n",
       " Class :character  \n",
       " Mode  :character  \n",
       "                   \n",
       "                   \n",
       "                   \n",
       "                   "
      ]
     },
     "metadata": {},
     "output_type": "display_data"
    }
   ],
   "source": [
    "year_trips <- year_trips_all[, c(\"ride_id\", \"rideable_type\", \"started_at\", \"ended_at\", \"start_lat\", \"start_lng\", \"end_lat\", \"end_lng\", \"member_casual\")]\n",
    "summary(year_trips)"
   ]
  },
  {
   "cell_type": "markdown",
   "metadata": {},
   "source": [
    "4. Remove duplicated ID as confirmed ride ID is associated with each ride, not riders.\n",
    "5. Remove \"docked_bike\" in rideable_type as it has no meaning to our analysis."
   ]
  },
  {
   "cell_type": "code",
   "execution_count": 6,
   "metadata": {
    "vscode": {
     "languageId": "r"
    }
   },
   "outputs": [
    {
     "data": {
      "text/plain": [
       "   ride_id          rideable_type       started_at          ended_at        \n",
       " Length:5676165     Length:5676165     Length:5676165     Length:5676165    \n",
       " Class :character   Class :character   Class :character   Class :character  \n",
       " Mode  :character   Mode  :character   Mode  :character   Mode  :character  \n",
       "                                                                            \n",
       "                                                                            \n",
       "                                                                            \n",
       "                                                                            \n",
       "   start_lat       start_lng         end_lat         end_lng      \n",
       " Min.   :41.63   Min.   :-87.94   Min.   : 0.00   Min.   :-88.16  \n",
       " 1st Qu.:41.88   1st Qu.:-87.66   1st Qu.:41.88   1st Qu.:-87.66  \n",
       " Median :41.90   Median :-87.64   Median :41.90   Median :-87.64  \n",
       " Mean   :41.90   Mean   :-87.65   Mean   :41.90   Mean   :-87.65  \n",
       " 3rd Qu.:41.93   3rd Qu.:-87.63   3rd Qu.:41.93   3rd Qu.:-87.63  \n",
       " Max.   :42.07   Max.   :-87.46   Max.   :42.18   Max.   :  0.00  \n",
       "                                  NA's   :5850    NA's   :5850    \n",
       " member_casual     \n",
       " Length:5676165    \n",
       " Class :character  \n",
       " Mode  :character  \n",
       "                   \n",
       "                   \n",
       "                   \n",
       "                   "
      ]
     },
     "metadata": {},
     "output_type": "display_data"
    }
   ],
   "source": [
    "year_trips <- year_trips[!duplicated(year_trips$ride_id), ]\n",
    "year_trips <- subset(year_trips, rideable_type != \"docked_bike\")\n",
    "summary(year_trips)"
   ]
  },
  {
   "cell_type": "markdown",
   "metadata": {},
   "source": [
    "5. Deleting rows with na values."
   ]
  },
  {
   "cell_type": "code",
   "execution_count": 7,
   "metadata": {
    "vscode": {
     "languageId": "r"
    }
   },
   "outputs": [
    {
     "data": {
      "text/plain": [
       "   ride_id          rideable_type       started_at          ended_at        \n",
       " Length:5670315     Length:5670315     Length:5670315     Length:5670315    \n",
       " Class :character   Class :character   Class :character   Class :character  \n",
       " Mode  :character   Mode  :character   Mode  :character   Mode  :character  \n",
       "                                                                            \n",
       "                                                                            \n",
       "                                                                            \n",
       "   start_lat       start_lng         end_lat         end_lng      \n",
       " Min.   :41.63   Min.   :-87.94   Min.   : 0.00   Min.   :-88.16  \n",
       " 1st Qu.:41.88   1st Qu.:-87.66   1st Qu.:41.88   1st Qu.:-87.66  \n",
       " Median :41.90   Median :-87.64   Median :41.90   Median :-87.64  \n",
       " Mean   :41.90   Mean   :-87.65   Mean   :41.90   Mean   :-87.65  \n",
       " 3rd Qu.:41.93   3rd Qu.:-87.63   3rd Qu.:41.93   3rd Qu.:-87.63  \n",
       " Max.   :42.07   Max.   :-87.46   Max.   :42.18   Max.   :  0.00  \n",
       " member_casual     \n",
       " Length:5670315    \n",
       " Class :character  \n",
       " Mode  :character  \n",
       "                   \n",
       "                   \n",
       "                   "
      ]
     },
     "metadata": {},
     "output_type": "display_data"
    }
   ],
   "source": [
    "year_trips <- drop_na(year_trips)\n",
    "summary(year_trips)"
   ]
  },
  {
   "cell_type": "markdown",
   "metadata": {},
   "source": [
    "Number of rows decreased from 5738612 to 5670315 (decrease of 1.2%)."
   ]
  },
  {
   "cell_type": "markdown",
   "id": "7e3dd450",
   "metadata": {
    "papermill": {
     "duration": 0.015077,
     "end_time": "2022-09-02T22:40:28.822322",
     "exception": false,
     "start_time": "2022-09-02T22:40:28.807245",
     "status": "completed"
    },
    "tags": []
   },
   "source": [
    "# **PROCESS**"
   ]
  },
  {
   "cell_type": "code",
   "execution_count": 8,
   "id": "a3353cd5",
   "metadata": {
    "execution": {
     "iopub.execute_input": "2022-09-02T22:40:29.037934Z",
     "iopub.status.busy": "2022-09-02T22:40:29.036377Z",
     "iopub.status.idle": "2022-09-02T22:40:29.069793Z",
     "shell.execute_reply": "2022-09-02T22:40:29.067471Z"
    },
    "papermill": {
     "duration": 0.054102,
     "end_time": "2022-09-02T22:40:29.072927",
     "exception": false,
     "start_time": "2022-09-02T22:40:29.018825",
     "status": "completed"
    },
    "tags": [],
    "vscode": {
     "languageId": "r"
    }
   },
   "outputs": [
    {
     "data": {
      "text/html": [
       "<style>\n",
       ".list-inline {list-style: none; margin:0; padding: 0}\n",
       ".list-inline>li {display: inline-block}\n",
       ".list-inline>li:not(:last-child)::after {content: \"\\00b7\"; padding: 0 .5ex}\n",
       "</style>\n",
       "<ol class=list-inline><li>5670315</li><li>9</li></ol>\n"
      ],
      "text/latex": [
       "\\begin{enumerate*}\n",
       "\\item 5670315\n",
       "\\item 9\n",
       "\\end{enumerate*}\n"
      ],
      "text/markdown": [
       "1. 5670315\n",
       "2. 9\n",
       "\n",
       "\n"
      ],
      "text/plain": [
       "[1] 5670315       9"
      ]
     },
     "metadata": {},
     "output_type": "display_data"
    },
    {
     "data": {
      "text/html": [
       "<table class=\"dataframe\">\n",
       "<caption>A data.frame: 6 × 9</caption>\n",
       "<thead>\n",
       "\t<tr><th></th><th scope=col>ride_id</th><th scope=col>rideable_type</th><th scope=col>started_at</th><th scope=col>ended_at</th><th scope=col>start_lat</th><th scope=col>start_lng</th><th scope=col>end_lat</th><th scope=col>end_lng</th><th scope=col>member_casual</th></tr>\n",
       "\t<tr><th></th><th scope=col>&lt;chr&gt;</th><th scope=col>&lt;chr&gt;</th><th scope=col>&lt;chr&gt;</th><th scope=col>&lt;chr&gt;</th><th scope=col>&lt;dbl&gt;</th><th scope=col>&lt;dbl&gt;</th><th scope=col>&lt;dbl&gt;</th><th scope=col>&lt;dbl&gt;</th><th scope=col>&lt;chr&gt;</th></tr>\n",
       "</thead>\n",
       "<tbody>\n",
       "\t<tr><th scope=row>1</th><td>0D9FA920C3062031</td><td>electric_bike</td><td>2023-05-07 19:53:48</td><td>2023-05-07 19:58:32</td><td>41.93941</td><td>-87.66383</td><td>41.93000</td><td>-87.65000</td><td>member</td></tr>\n",
       "\t<tr><th scope=row>2</th><td>92485E5FB5888ACD</td><td>electric_bike</td><td>2023-05-06 18:54:08</td><td>2023-05-06 19:03:35</td><td>41.93948</td><td>-87.66385</td><td>41.94000</td><td>-87.69000</td><td>member</td></tr>\n",
       "\t<tr><th scope=row>3</th><td>FB144B3FC8300187</td><td>electric_bike</td><td>2023-05-21 00:40:21</td><td>2023-05-21 00:44:36</td><td>41.85379</td><td>-87.64672</td><td>41.86000</td><td>-87.65000</td><td>member</td></tr>\n",
       "\t<tr><th scope=row>4</th><td>DDEB93BC2CE9AA77</td><td>classic_bike </td><td>2023-05-10 16:47:01</td><td>2023-05-10 16:59:52</td><td>41.89456</td><td>-87.65345</td><td>41.91598</td><td>-87.67733</td><td>member</td></tr>\n",
       "\t<tr><th scope=row>5</th><td>C07B70172FC92F59</td><td>classic_bike </td><td>2023-05-09 18:30:34</td><td>2023-05-09 18:39:28</td><td>41.95708</td><td>-87.66420</td><td>41.93948</td><td>-87.66375</td><td>member</td></tr>\n",
       "\t<tr><th scope=row>6</th><td>2BA66385DF8F815A</td><td>classic_bike </td><td>2023-05-30 15:01:21</td><td>2023-05-30 15:17:00</td><td>41.88275</td><td>-87.64119</td><td>41.89259</td><td>-87.61729</td><td>member</td></tr>\n",
       "</tbody>\n",
       "</table>\n"
      ],
      "text/latex": [
       "A data.frame: 6 × 9\n",
       "\\begin{tabular}{r|lllllllll}\n",
       "  & ride\\_id & rideable\\_type & started\\_at & ended\\_at & start\\_lat & start\\_lng & end\\_lat & end\\_lng & member\\_casual\\\\\n",
       "  & <chr> & <chr> & <chr> & <chr> & <dbl> & <dbl> & <dbl> & <dbl> & <chr>\\\\\n",
       "\\hline\n",
       "\t1 & 0D9FA920C3062031 & electric\\_bike & 2023-05-07 19:53:48 & 2023-05-07 19:58:32 & 41.93941 & -87.66383 & 41.93000 & -87.65000 & member\\\\\n",
       "\t2 & 92485E5FB5888ACD & electric\\_bike & 2023-05-06 18:54:08 & 2023-05-06 19:03:35 & 41.93948 & -87.66385 & 41.94000 & -87.69000 & member\\\\\n",
       "\t3 & FB144B3FC8300187 & electric\\_bike & 2023-05-21 00:40:21 & 2023-05-21 00:44:36 & 41.85379 & -87.64672 & 41.86000 & -87.65000 & member\\\\\n",
       "\t4 & DDEB93BC2CE9AA77 & classic\\_bike  & 2023-05-10 16:47:01 & 2023-05-10 16:59:52 & 41.89456 & -87.65345 & 41.91598 & -87.67733 & member\\\\\n",
       "\t5 & C07B70172FC92F59 & classic\\_bike  & 2023-05-09 18:30:34 & 2023-05-09 18:39:28 & 41.95708 & -87.66420 & 41.93948 & -87.66375 & member\\\\\n",
       "\t6 & 2BA66385DF8F815A & classic\\_bike  & 2023-05-30 15:01:21 & 2023-05-30 15:17:00 & 41.88275 & -87.64119 & 41.89259 & -87.61729 & member\\\\\n",
       "\\end{tabular}\n"
      ],
      "text/markdown": [
       "\n",
       "A data.frame: 6 × 9\n",
       "\n",
       "| <!--/--> | ride_id &lt;chr&gt; | rideable_type &lt;chr&gt; | started_at &lt;chr&gt; | ended_at &lt;chr&gt; | start_lat &lt;dbl&gt; | start_lng &lt;dbl&gt; | end_lat &lt;dbl&gt; | end_lng &lt;dbl&gt; | member_casual &lt;chr&gt; |\n",
       "|---|---|---|---|---|---|---|---|---|---|\n",
       "| 1 | 0D9FA920C3062031 | electric_bike | 2023-05-07 19:53:48 | 2023-05-07 19:58:32 | 41.93941 | -87.66383 | 41.93000 | -87.65000 | member |\n",
       "| 2 | 92485E5FB5888ACD | electric_bike | 2023-05-06 18:54:08 | 2023-05-06 19:03:35 | 41.93948 | -87.66385 | 41.94000 | -87.69000 | member |\n",
       "| 3 | FB144B3FC8300187 | electric_bike | 2023-05-21 00:40:21 | 2023-05-21 00:44:36 | 41.85379 | -87.64672 | 41.86000 | -87.65000 | member |\n",
       "| 4 | DDEB93BC2CE9AA77 | classic_bike  | 2023-05-10 16:47:01 | 2023-05-10 16:59:52 | 41.89456 | -87.65345 | 41.91598 | -87.67733 | member |\n",
       "| 5 | C07B70172FC92F59 | classic_bike  | 2023-05-09 18:30:34 | 2023-05-09 18:39:28 | 41.95708 | -87.66420 | 41.93948 | -87.66375 | member |\n",
       "| 6 | 2BA66385DF8F815A | classic_bike  | 2023-05-30 15:01:21 | 2023-05-30 15:17:00 | 41.88275 | -87.64119 | 41.89259 | -87.61729 | member |\n",
       "\n"
      ],
      "text/plain": [
       "  ride_id          rideable_type started_at          ended_at           \n",
       "1 0D9FA920C3062031 electric_bike 2023-05-07 19:53:48 2023-05-07 19:58:32\n",
       "2 92485E5FB5888ACD electric_bike 2023-05-06 18:54:08 2023-05-06 19:03:35\n",
       "3 FB144B3FC8300187 electric_bike 2023-05-21 00:40:21 2023-05-21 00:44:36\n",
       "4 DDEB93BC2CE9AA77 classic_bike  2023-05-10 16:47:01 2023-05-10 16:59:52\n",
       "5 C07B70172FC92F59 classic_bike  2023-05-09 18:30:34 2023-05-09 18:39:28\n",
       "6 2BA66385DF8F815A classic_bike  2023-05-30 15:01:21 2023-05-30 15:17:00\n",
       "  start_lat start_lng end_lat  end_lng   member_casual\n",
       "1 41.93941  -87.66383 41.93000 -87.65000 member       \n",
       "2 41.93948  -87.66385 41.94000 -87.69000 member       \n",
       "3 41.85379  -87.64672 41.86000 -87.65000 member       \n",
       "4 41.89456  -87.65345 41.91598 -87.67733 member       \n",
       "5 41.95708  -87.66420 41.93948 -87.66375 member       \n",
       "6 41.88275  -87.64119 41.89259 -87.61729 member       "
      ]
     },
     "metadata": {},
     "output_type": "display_data"
    },
    {
     "name": "stdout",
     "output_type": "stream",
     "text": [
      "'data.frame':\t5670315 obs. of  9 variables:\n",
      " $ ride_id      : chr  \"0D9FA920C3062031\" \"92485E5FB5888ACD\" \"FB144B3FC8300187\" \"DDEB93BC2CE9AA77\" ...\n",
      " $ rideable_type: chr  \"electric_bike\" \"electric_bike\" \"electric_bike\" \"classic_bike\" ...\n",
      " $ started_at   : chr  \"2023-05-07 19:53:48\" \"2023-05-06 18:54:08\" \"2023-05-21 00:40:21\" \"2023-05-10 16:47:01\" ...\n",
      " $ ended_at     : chr  \"2023-05-07 19:58:32\" \"2023-05-06 19:03:35\" \"2023-05-21 00:44:36\" \"2023-05-10 16:59:52\" ...\n",
      " $ start_lat    : num  41.9 41.9 41.9 41.9 42 ...\n",
      " $ start_lng    : num  -87.7 -87.7 -87.6 -87.7 -87.7 ...\n",
      " $ end_lat      : num  41.9 41.9 41.9 41.9 41.9 ...\n",
      " $ end_lng      : num  -87.7 -87.7 -87.7 -87.7 -87.7 ...\n",
      " $ member_casual: chr  \"member\" \"member\" \"member\" \"member\" ...\n"
     ]
    }
   ],
   "source": [
    "dim(year_trips)\n",
    "head(year_trips)\n",
    "str(year_trips)"
   ]
  },
  {
   "cell_type": "markdown",
   "metadata": {},
   "source": [
    "1. Splitting the data set into 3 parts for computational stability."
   ]
  },
  {
   "cell_type": "code",
   "execution_count": 9,
   "metadata": {
    "vscode": {
     "languageId": "r"
    }
   },
   "outputs": [],
   "source": [
    "y1 <- year_trips[1:2000000, ]\n",
    "y2 <- year_trips[2000001:3750000, ]\n",
    "y3 <- year_trips[3750001:5670315, ]"
   ]
  },
  {
   "cell_type": "markdown",
   "metadata": {},
   "source": [
    "2. Adding new columns for date, month, day and year."
   ]
  },
  {
   "cell_type": "code",
   "execution_count": 10,
   "metadata": {
    "vscode": {
     "languageId": "r"
    }
   },
   "outputs": [],
   "source": [
    "y1 <- y1 %>%\n",
    "  mutate(\n",
    "    date = as.Date(started_at),\n",
    "    month = format(as.Date(started_at), \"%m\"),\n",
    "    day = format(as.Date(started_at), \"%d\"),\n",
    "    year = format(as.Date(started_at), \"%Y\"),\n",
    "    day_of_week = format(as.Date(started_at), \"%A\")\n",
    "  )"
   ]
  },
  {
   "cell_type": "code",
   "execution_count": 11,
   "metadata": {
    "vscode": {
     "languageId": "r"
    }
   },
   "outputs": [],
   "source": [
    "y2 <- y2 %>%\n",
    "  mutate(\n",
    "    date = as.Date(started_at),\n",
    "    month = format(as.Date(started_at), \"%m\"),\n",
    "    day = format(as.Date(started_at), \"%d\"),\n",
    "    year = format(as.Date(started_at), \"%Y\"),\n",
    "    day_of_week = format(as.Date(started_at), \"%A\")\n",
    "  )"
   ]
  },
  {
   "cell_type": "code",
   "execution_count": 12,
   "metadata": {
    "vscode": {
     "languageId": "r"
    }
   },
   "outputs": [],
   "source": [
    "y3 <- y3 %>%\n",
    "  mutate(\n",
    "    date = as.Date(started_at),\n",
    "    month = format(as.Date(started_at), \"%m\"),\n",
    "    day = format(as.Date(started_at), \"%d\"),\n",
    "    year = format(as.Date(started_at), \"%Y\"),\n",
    "    day_of_week = format(as.Date(started_at), \"%A\")\n",
    "  )"
   ]
  },
  {
   "cell_type": "code",
   "execution_count": 13,
   "metadata": {
    "vscode": {
     "languageId": "r"
    }
   },
   "outputs": [
    {
     "data": {
      "text/html": [
       "<table class=\"dataframe\">\n",
       "<caption>A data.frame: 6 × 14</caption>\n",
       "<thead>\n",
       "\t<tr><th></th><th scope=col>ride_id</th><th scope=col>rideable_type</th><th scope=col>started_at</th><th scope=col>ended_at</th><th scope=col>start_lat</th><th scope=col>start_lng</th><th scope=col>end_lat</th><th scope=col>end_lng</th><th scope=col>member_casual</th><th scope=col>date</th><th scope=col>month</th><th scope=col>day</th><th scope=col>year</th><th scope=col>day_of_week</th></tr>\n",
       "\t<tr><th></th><th scope=col>&lt;chr&gt;</th><th scope=col>&lt;chr&gt;</th><th scope=col>&lt;chr&gt;</th><th scope=col>&lt;chr&gt;</th><th scope=col>&lt;dbl&gt;</th><th scope=col>&lt;dbl&gt;</th><th scope=col>&lt;dbl&gt;</th><th scope=col>&lt;dbl&gt;</th><th scope=col>&lt;chr&gt;</th><th scope=col>&lt;date&gt;</th><th scope=col>&lt;chr&gt;</th><th scope=col>&lt;chr&gt;</th><th scope=col>&lt;chr&gt;</th><th scope=col>&lt;chr&gt;</th></tr>\n",
       "</thead>\n",
       "<tbody>\n",
       "\t<tr><th scope=row>1</th><td>0D9FA920C3062031</td><td>electric_bike</td><td>2023-05-07 19:53:48</td><td>2023-05-07 19:58:32</td><td>41.93941</td><td>-87.66383</td><td>41.93000</td><td>-87.65000</td><td>member</td><td>2023-05-07</td><td>05</td><td>07</td><td>2023</td><td>Sunday   </td></tr>\n",
       "\t<tr><th scope=row>2</th><td>92485E5FB5888ACD</td><td>electric_bike</td><td>2023-05-06 18:54:08</td><td>2023-05-06 19:03:35</td><td>41.93948</td><td>-87.66385</td><td>41.94000</td><td>-87.69000</td><td>member</td><td>2023-05-06</td><td>05</td><td>06</td><td>2023</td><td>Saturday </td></tr>\n",
       "\t<tr><th scope=row>3</th><td>FB144B3FC8300187</td><td>electric_bike</td><td>2023-05-21 00:40:21</td><td>2023-05-21 00:44:36</td><td>41.85379</td><td>-87.64672</td><td>41.86000</td><td>-87.65000</td><td>member</td><td>2023-05-21</td><td>05</td><td>21</td><td>2023</td><td>Sunday   </td></tr>\n",
       "\t<tr><th scope=row>4</th><td>DDEB93BC2CE9AA77</td><td>classic_bike </td><td>2023-05-10 16:47:01</td><td>2023-05-10 16:59:52</td><td>41.89456</td><td>-87.65345</td><td>41.91598</td><td>-87.67733</td><td>member</td><td>2023-05-10</td><td>05</td><td>10</td><td>2023</td><td>Wednesday</td></tr>\n",
       "\t<tr><th scope=row>5</th><td>C07B70172FC92F59</td><td>classic_bike </td><td>2023-05-09 18:30:34</td><td>2023-05-09 18:39:28</td><td>41.95708</td><td>-87.66420</td><td>41.93948</td><td>-87.66375</td><td>member</td><td>2023-05-09</td><td>05</td><td>09</td><td>2023</td><td>Tuesday  </td></tr>\n",
       "\t<tr><th scope=row>6</th><td>2BA66385DF8F815A</td><td>classic_bike </td><td>2023-05-30 15:01:21</td><td>2023-05-30 15:17:00</td><td>41.88275</td><td>-87.64119</td><td>41.89259</td><td>-87.61729</td><td>member</td><td>2023-05-30</td><td>05</td><td>30</td><td>2023</td><td>Tuesday  </td></tr>\n",
       "</tbody>\n",
       "</table>\n"
      ],
      "text/latex": [
       "A data.frame: 6 × 14\n",
       "\\begin{tabular}{r|llllllllllllll}\n",
       "  & ride\\_id & rideable\\_type & started\\_at & ended\\_at & start\\_lat & start\\_lng & end\\_lat & end\\_lng & member\\_casual & date & month & day & year & day\\_of\\_week\\\\\n",
       "  & <chr> & <chr> & <chr> & <chr> & <dbl> & <dbl> & <dbl> & <dbl> & <chr> & <date> & <chr> & <chr> & <chr> & <chr>\\\\\n",
       "\\hline\n",
       "\t1 & 0D9FA920C3062031 & electric\\_bike & 2023-05-07 19:53:48 & 2023-05-07 19:58:32 & 41.93941 & -87.66383 & 41.93000 & -87.65000 & member & 2023-05-07 & 05 & 07 & 2023 & Sunday   \\\\\n",
       "\t2 & 92485E5FB5888ACD & electric\\_bike & 2023-05-06 18:54:08 & 2023-05-06 19:03:35 & 41.93948 & -87.66385 & 41.94000 & -87.69000 & member & 2023-05-06 & 05 & 06 & 2023 & Saturday \\\\\n",
       "\t3 & FB144B3FC8300187 & electric\\_bike & 2023-05-21 00:40:21 & 2023-05-21 00:44:36 & 41.85379 & -87.64672 & 41.86000 & -87.65000 & member & 2023-05-21 & 05 & 21 & 2023 & Sunday   \\\\\n",
       "\t4 & DDEB93BC2CE9AA77 & classic\\_bike  & 2023-05-10 16:47:01 & 2023-05-10 16:59:52 & 41.89456 & -87.65345 & 41.91598 & -87.67733 & member & 2023-05-10 & 05 & 10 & 2023 & Wednesday\\\\\n",
       "\t5 & C07B70172FC92F59 & classic\\_bike  & 2023-05-09 18:30:34 & 2023-05-09 18:39:28 & 41.95708 & -87.66420 & 41.93948 & -87.66375 & member & 2023-05-09 & 05 & 09 & 2023 & Tuesday  \\\\\n",
       "\t6 & 2BA66385DF8F815A & classic\\_bike  & 2023-05-30 15:01:21 & 2023-05-30 15:17:00 & 41.88275 & -87.64119 & 41.89259 & -87.61729 & member & 2023-05-30 & 05 & 30 & 2023 & Tuesday  \\\\\n",
       "\\end{tabular}\n"
      ],
      "text/markdown": [
       "\n",
       "A data.frame: 6 × 14\n",
       "\n",
       "| <!--/--> | ride_id &lt;chr&gt; | rideable_type &lt;chr&gt; | started_at &lt;chr&gt; | ended_at &lt;chr&gt; | start_lat &lt;dbl&gt; | start_lng &lt;dbl&gt; | end_lat &lt;dbl&gt; | end_lng &lt;dbl&gt; | member_casual &lt;chr&gt; | date &lt;date&gt; | month &lt;chr&gt; | day &lt;chr&gt; | year &lt;chr&gt; | day_of_week &lt;chr&gt; |\n",
       "|---|---|---|---|---|---|---|---|---|---|---|---|---|---|---|\n",
       "| 1 | 0D9FA920C3062031 | electric_bike | 2023-05-07 19:53:48 | 2023-05-07 19:58:32 | 41.93941 | -87.66383 | 41.93000 | -87.65000 | member | 2023-05-07 | 05 | 07 | 2023 | Sunday    |\n",
       "| 2 | 92485E5FB5888ACD | electric_bike | 2023-05-06 18:54:08 | 2023-05-06 19:03:35 | 41.93948 | -87.66385 | 41.94000 | -87.69000 | member | 2023-05-06 | 05 | 06 | 2023 | Saturday  |\n",
       "| 3 | FB144B3FC8300187 | electric_bike | 2023-05-21 00:40:21 | 2023-05-21 00:44:36 | 41.85379 | -87.64672 | 41.86000 | -87.65000 | member | 2023-05-21 | 05 | 21 | 2023 | Sunday    |\n",
       "| 4 | DDEB93BC2CE9AA77 | classic_bike  | 2023-05-10 16:47:01 | 2023-05-10 16:59:52 | 41.89456 | -87.65345 | 41.91598 | -87.67733 | member | 2023-05-10 | 05 | 10 | 2023 | Wednesday |\n",
       "| 5 | C07B70172FC92F59 | classic_bike  | 2023-05-09 18:30:34 | 2023-05-09 18:39:28 | 41.95708 | -87.66420 | 41.93948 | -87.66375 | member | 2023-05-09 | 05 | 09 | 2023 | Tuesday   |\n",
       "| 6 | 2BA66385DF8F815A | classic_bike  | 2023-05-30 15:01:21 | 2023-05-30 15:17:00 | 41.88275 | -87.64119 | 41.89259 | -87.61729 | member | 2023-05-30 | 05 | 30 | 2023 | Tuesday   |\n",
       "\n"
      ],
      "text/plain": [
       "  ride_id          rideable_type started_at          ended_at           \n",
       "1 0D9FA920C3062031 electric_bike 2023-05-07 19:53:48 2023-05-07 19:58:32\n",
       "2 92485E5FB5888ACD electric_bike 2023-05-06 18:54:08 2023-05-06 19:03:35\n",
       "3 FB144B3FC8300187 electric_bike 2023-05-21 00:40:21 2023-05-21 00:44:36\n",
       "4 DDEB93BC2CE9AA77 classic_bike  2023-05-10 16:47:01 2023-05-10 16:59:52\n",
       "5 C07B70172FC92F59 classic_bike  2023-05-09 18:30:34 2023-05-09 18:39:28\n",
       "6 2BA66385DF8F815A classic_bike  2023-05-30 15:01:21 2023-05-30 15:17:00\n",
       "  start_lat start_lng end_lat  end_lng   member_casual date       month day\n",
       "1 41.93941  -87.66383 41.93000 -87.65000 member        2023-05-07 05    07 \n",
       "2 41.93948  -87.66385 41.94000 -87.69000 member        2023-05-06 05    06 \n",
       "3 41.85379  -87.64672 41.86000 -87.65000 member        2023-05-21 05    21 \n",
       "4 41.89456  -87.65345 41.91598 -87.67733 member        2023-05-10 05    10 \n",
       "5 41.95708  -87.66420 41.93948 -87.66375 member        2023-05-09 05    09 \n",
       "6 41.88275  -87.64119 41.89259 -87.61729 member        2023-05-30 05    30 \n",
       "  year day_of_week\n",
       "1 2023 Sunday     \n",
       "2 2023 Saturday   \n",
       "3 2023 Sunday     \n",
       "4 2023 Wednesday  \n",
       "5 2023 Tuesday    \n",
       "6 2023 Tuesday    "
      ]
     },
     "metadata": {},
     "output_type": "display_data"
    },
    {
     "name": "stdout",
     "output_type": "stream",
     "text": [
      "'data.frame':\t5670315 obs. of  14 variables:\n",
      " $ ride_id      : chr  \"0D9FA920C3062031\" \"92485E5FB5888ACD\" \"FB144B3FC8300187\" \"DDEB93BC2CE9AA77\" ...\n",
      " $ rideable_type: chr  \"electric_bike\" \"electric_bike\" \"electric_bike\" \"classic_bike\" ...\n",
      " $ started_at   : chr  \"2023-05-07 19:53:48\" \"2023-05-06 18:54:08\" \"2023-05-21 00:40:21\" \"2023-05-10 16:47:01\" ...\n",
      " $ ended_at     : chr  \"2023-05-07 19:58:32\" \"2023-05-06 19:03:35\" \"2023-05-21 00:44:36\" \"2023-05-10 16:59:52\" ...\n",
      " $ start_lat    : num  41.9 41.9 41.9 41.9 42 ...\n",
      " $ start_lng    : num  -87.7 -87.7 -87.6 -87.7 -87.7 ...\n",
      " $ end_lat      : num  41.9 41.9 41.9 41.9 41.9 ...\n",
      " $ end_lng      : num  -87.7 -87.7 -87.7 -87.7 -87.7 ...\n",
      " $ member_casual: chr  \"member\" \"member\" \"member\" \"member\" ...\n",
      " $ date         : Date, format: \"2023-05-07\" \"2023-05-06\" ...\n",
      " $ month        : chr  \"05\" \"05\" \"05\" \"05\" ...\n",
      " $ day          : chr  \"07\" \"06\" \"21\" \"10\" ...\n",
      " $ year         : chr  \"2023\" \"2023\" \"2023\" \"2023\" ...\n",
      " $ day_of_week  : chr  \"Sunday\" \"Saturday\" \"Sunday\" \"Wednesday\" ...\n"
     ]
    }
   ],
   "source": [
    "year_trips <- bind_rows(y1, y2, y3)\n",
    "head(year_trips)\n",
    "str(year_trips)"
   ]
  },
  {
   "cell_type": "markdown",
   "metadata": {},
   "source": [
    "3. Calculating ride length of each trip."
   ]
  },
  {
   "cell_type": "code",
   "execution_count": 14,
   "id": "7bbc6e21",
   "metadata": {
    "execution": {
     "iopub.execute_input": "2022-09-02T22:40:50.945201Z",
     "iopub.status.busy": "2022-09-02T22:40:50.943444Z",
     "iopub.status.idle": "2022-09-02T22:41:12.456080Z",
     "shell.execute_reply": "2022-09-02T22:41:12.453875Z"
    },
    "papermill": {
     "duration": 21.534788,
     "end_time": "2022-09-02T22:41:12.459853",
     "exception": false,
     "start_time": "2022-09-02T22:40:50.925065",
     "status": "completed"
    },
    "tags": [],
    "vscode": {
     "languageId": "r"
    }
   },
   "outputs": [],
   "source": [
    "year_trips$ride_length <- difftime(year_trips$ended_at, year_trips$started_at)"
   ]
  },
  {
   "cell_type": "markdown",
   "metadata": {},
   "source": [
    "4. Converting ride length from Double to numeric so we can run calculations on the data."
   ]
  },
  {
   "cell_type": "code",
   "execution_count": 15,
   "id": "96ca3b74",
   "metadata": {
    "execution": {
     "iopub.execute_input": "2022-09-02T22:41:12.506425Z",
     "iopub.status.busy": "2022-09-02T22:41:12.504669Z",
     "iopub.status.idle": "2022-09-02T22:41:17.078861Z",
     "shell.execute_reply": "2022-09-02T22:41:17.077039Z"
    },
    "papermill": {
     "duration": 4.604645,
     "end_time": "2022-09-02T22:41:17.081474",
     "exception": false,
     "start_time": "2022-09-02T22:41:12.476829",
     "status": "completed"
    },
    "tags": [],
    "vscode": {
     "languageId": "r"
    }
   },
   "outputs": [],
   "source": [
    "year_trips$ride_length <- as.numeric(as.character(year_trips$ride_length))"
   ]
  },
  {
   "cell_type": "markdown",
   "id": "c0dcec1a",
   "metadata": {
    "papermill": {
     "duration": 0.016123,
     "end_time": "2022-09-02T22:41:17.114363",
     "exception": false,
     "start_time": "2022-09-02T22:41:17.098240",
     "status": "completed"
    },
    "tags": []
   },
   "source": [
    "4. Remove trips if ride length is less than 0 second and is > 1440 minutes as ride length shouldn't be either negative or more than one day."
   ]
  },
  {
   "cell_type": "code",
   "execution_count": 16,
   "id": "161ecc8d",
   "metadata": {
    "execution": {
     "iopub.execute_input": "2022-09-02T22:41:17.150157Z",
     "iopub.status.busy": "2022-09-02T22:41:17.148489Z",
     "iopub.status.idle": "2022-09-02T22:41:20.149665Z",
     "shell.execute_reply": "2022-09-02T22:41:20.147738Z"
    },
    "papermill": {
     "duration": 3.022174,
     "end_time": "2022-09-02T22:41:20.152423",
     "exception": false,
     "start_time": "2022-09-02T22:41:17.130249",
     "status": "completed"
    },
    "tags": [],
    "vscode": {
     "languageId": "r"
    }
   },
   "outputs": [],
   "source": [
    "year_trips <- year_trips[!(year_trips$ride_length <= 0 | year_trips$ride_length > 1440),]"
   ]
  },
  {
   "cell_type": "code",
   "execution_count": 17,
   "id": "6417b47d",
   "metadata": {
    "execution": {
     "iopub.execute_input": "2022-09-02T22:41:20.188599Z",
     "iopub.status.busy": "2022-09-02T22:41:20.187092Z",
     "iopub.status.idle": "2022-09-02T22:41:25.354170Z",
     "shell.execute_reply": "2022-09-02T22:41:25.352372Z"
    },
    "papermill": {
     "duration": 5.188683,
     "end_time": "2022-09-02T22:41:25.357638",
     "exception": false,
     "start_time": "2022-09-02T22:41:20.168955",
     "status": "completed"
    },
    "tags": [],
    "vscode": {
     "languageId": "r"
    }
   },
   "outputs": [
    {
     "data": {
      "text/html": [
       "<style>\n",
       ".list-inline {list-style: none; margin:0; padding: 0}\n",
       ".list-inline>li {display: inline-block}\n",
       ".list-inline>li:not(:last-child)::after {content: \"\\00b7\"; padding: 0 .5ex}\n",
       "</style>\n",
       "<ol class=list-inline><li>4876486</li><li>15</li></ol>\n"
      ],
      "text/latex": [
       "\\begin{enumerate*}\n",
       "\\item 4876486\n",
       "\\item 15\n",
       "\\end{enumerate*}\n"
      ],
      "text/markdown": [
       "1. 4876486\n",
       "2. 15\n",
       "\n",
       "\n"
      ],
      "text/plain": [
       "[1] 4876486      15"
      ]
     },
     "metadata": {},
     "output_type": "display_data"
    },
    {
     "data": {
      "text/html": [
       "<table class=\"dataframe\">\n",
       "<caption>A data.frame: 6 × 15</caption>\n",
       "<thead>\n",
       "\t<tr><th></th><th scope=col>ride_id</th><th scope=col>rideable_type</th><th scope=col>started_at</th><th scope=col>ended_at</th><th scope=col>start_lat</th><th scope=col>start_lng</th><th scope=col>end_lat</th><th scope=col>end_lng</th><th scope=col>member_casual</th><th scope=col>date</th><th scope=col>month</th><th scope=col>day</th><th scope=col>year</th><th scope=col>day_of_week</th><th scope=col>ride_length</th></tr>\n",
       "\t<tr><th></th><th scope=col>&lt;chr&gt;</th><th scope=col>&lt;chr&gt;</th><th scope=col>&lt;chr&gt;</th><th scope=col>&lt;chr&gt;</th><th scope=col>&lt;dbl&gt;</th><th scope=col>&lt;dbl&gt;</th><th scope=col>&lt;dbl&gt;</th><th scope=col>&lt;dbl&gt;</th><th scope=col>&lt;chr&gt;</th><th scope=col>&lt;date&gt;</th><th scope=col>&lt;chr&gt;</th><th scope=col>&lt;chr&gt;</th><th scope=col>&lt;chr&gt;</th><th scope=col>&lt;chr&gt;</th><th scope=col>&lt;dbl&gt;</th></tr>\n",
       "</thead>\n",
       "<tbody>\n",
       "\t<tr><th scope=row>1</th><td>0D9FA920C3062031</td><td>electric_bike</td><td>2023-05-07 19:53:48</td><td>2023-05-07 19:58:32</td><td>41.93941</td><td>-87.66383</td><td>41.93000</td><td>-87.65000</td><td>member</td><td>2023-05-07</td><td>05</td><td>07</td><td>2023</td><td>Sunday   </td><td>284</td></tr>\n",
       "\t<tr><th scope=row>2</th><td>92485E5FB5888ACD</td><td>electric_bike</td><td>2023-05-06 18:54:08</td><td>2023-05-06 19:03:35</td><td>41.93948</td><td>-87.66385</td><td>41.94000</td><td>-87.69000</td><td>member</td><td>2023-05-06</td><td>05</td><td>06</td><td>2023</td><td>Saturday </td><td>567</td></tr>\n",
       "\t<tr><th scope=row>3</th><td>FB144B3FC8300187</td><td>electric_bike</td><td>2023-05-21 00:40:21</td><td>2023-05-21 00:44:36</td><td>41.85379</td><td>-87.64672</td><td>41.86000</td><td>-87.65000</td><td>member</td><td>2023-05-21</td><td>05</td><td>21</td><td>2023</td><td>Sunday   </td><td>255</td></tr>\n",
       "\t<tr><th scope=row>4</th><td>DDEB93BC2CE9AA77</td><td>classic_bike </td><td>2023-05-10 16:47:01</td><td>2023-05-10 16:59:52</td><td>41.89456</td><td>-87.65345</td><td>41.91598</td><td>-87.67733</td><td>member</td><td>2023-05-10</td><td>05</td><td>10</td><td>2023</td><td>Wednesday</td><td>771</td></tr>\n",
       "\t<tr><th scope=row>5</th><td>C07B70172FC92F59</td><td>classic_bike </td><td>2023-05-09 18:30:34</td><td>2023-05-09 18:39:28</td><td>41.95708</td><td>-87.66420</td><td>41.93948</td><td>-87.66375</td><td>member</td><td>2023-05-09</td><td>05</td><td>09</td><td>2023</td><td>Tuesday  </td><td>534</td></tr>\n",
       "\t<tr><th scope=row>6</th><td>2BA66385DF8F815A</td><td>classic_bike </td><td>2023-05-30 15:01:21</td><td>2023-05-30 15:17:00</td><td>41.88275</td><td>-87.64119</td><td>41.89259</td><td>-87.61729</td><td>member</td><td>2023-05-30</td><td>05</td><td>30</td><td>2023</td><td>Tuesday  </td><td>939</td></tr>\n",
       "</tbody>\n",
       "</table>\n"
      ],
      "text/latex": [
       "A data.frame: 6 × 15\n",
       "\\begin{tabular}{r|lllllllllllllll}\n",
       "  & ride\\_id & rideable\\_type & started\\_at & ended\\_at & start\\_lat & start\\_lng & end\\_lat & end\\_lng & member\\_casual & date & month & day & year & day\\_of\\_week & ride\\_length\\\\\n",
       "  & <chr> & <chr> & <chr> & <chr> & <dbl> & <dbl> & <dbl> & <dbl> & <chr> & <date> & <chr> & <chr> & <chr> & <chr> & <dbl>\\\\\n",
       "\\hline\n",
       "\t1 & 0D9FA920C3062031 & electric\\_bike & 2023-05-07 19:53:48 & 2023-05-07 19:58:32 & 41.93941 & -87.66383 & 41.93000 & -87.65000 & member & 2023-05-07 & 05 & 07 & 2023 & Sunday    & 284\\\\\n",
       "\t2 & 92485E5FB5888ACD & electric\\_bike & 2023-05-06 18:54:08 & 2023-05-06 19:03:35 & 41.93948 & -87.66385 & 41.94000 & -87.69000 & member & 2023-05-06 & 05 & 06 & 2023 & Saturday  & 567\\\\\n",
       "\t3 & FB144B3FC8300187 & electric\\_bike & 2023-05-21 00:40:21 & 2023-05-21 00:44:36 & 41.85379 & -87.64672 & 41.86000 & -87.65000 & member & 2023-05-21 & 05 & 21 & 2023 & Sunday    & 255\\\\\n",
       "\t4 & DDEB93BC2CE9AA77 & classic\\_bike  & 2023-05-10 16:47:01 & 2023-05-10 16:59:52 & 41.89456 & -87.65345 & 41.91598 & -87.67733 & member & 2023-05-10 & 05 & 10 & 2023 & Wednesday & 771\\\\\n",
       "\t5 & C07B70172FC92F59 & classic\\_bike  & 2023-05-09 18:30:34 & 2023-05-09 18:39:28 & 41.95708 & -87.66420 & 41.93948 & -87.66375 & member & 2023-05-09 & 05 & 09 & 2023 & Tuesday   & 534\\\\\n",
       "\t6 & 2BA66385DF8F815A & classic\\_bike  & 2023-05-30 15:01:21 & 2023-05-30 15:17:00 & 41.88275 & -87.64119 & 41.89259 & -87.61729 & member & 2023-05-30 & 05 & 30 & 2023 & Tuesday   & 939\\\\\n",
       "\\end{tabular}\n"
      ],
      "text/markdown": [
       "\n",
       "A data.frame: 6 × 15\n",
       "\n",
       "| <!--/--> | ride_id &lt;chr&gt; | rideable_type &lt;chr&gt; | started_at &lt;chr&gt; | ended_at &lt;chr&gt; | start_lat &lt;dbl&gt; | start_lng &lt;dbl&gt; | end_lat &lt;dbl&gt; | end_lng &lt;dbl&gt; | member_casual &lt;chr&gt; | date &lt;date&gt; | month &lt;chr&gt; | day &lt;chr&gt; | year &lt;chr&gt; | day_of_week &lt;chr&gt; | ride_length &lt;dbl&gt; |\n",
       "|---|---|---|---|---|---|---|---|---|---|---|---|---|---|---|---|\n",
       "| 1 | 0D9FA920C3062031 | electric_bike | 2023-05-07 19:53:48 | 2023-05-07 19:58:32 | 41.93941 | -87.66383 | 41.93000 | -87.65000 | member | 2023-05-07 | 05 | 07 | 2023 | Sunday    | 284 |\n",
       "| 2 | 92485E5FB5888ACD | electric_bike | 2023-05-06 18:54:08 | 2023-05-06 19:03:35 | 41.93948 | -87.66385 | 41.94000 | -87.69000 | member | 2023-05-06 | 05 | 06 | 2023 | Saturday  | 567 |\n",
       "| 3 | FB144B3FC8300187 | electric_bike | 2023-05-21 00:40:21 | 2023-05-21 00:44:36 | 41.85379 | -87.64672 | 41.86000 | -87.65000 | member | 2023-05-21 | 05 | 21 | 2023 | Sunday    | 255 |\n",
       "| 4 | DDEB93BC2CE9AA77 | classic_bike  | 2023-05-10 16:47:01 | 2023-05-10 16:59:52 | 41.89456 | -87.65345 | 41.91598 | -87.67733 | member | 2023-05-10 | 05 | 10 | 2023 | Wednesday | 771 |\n",
       "| 5 | C07B70172FC92F59 | classic_bike  | 2023-05-09 18:30:34 | 2023-05-09 18:39:28 | 41.95708 | -87.66420 | 41.93948 | -87.66375 | member | 2023-05-09 | 05 | 09 | 2023 | Tuesday   | 534 |\n",
       "| 6 | 2BA66385DF8F815A | classic_bike  | 2023-05-30 15:01:21 | 2023-05-30 15:17:00 | 41.88275 | -87.64119 | 41.89259 | -87.61729 | member | 2023-05-30 | 05 | 30 | 2023 | Tuesday   | 939 |\n",
       "\n"
      ],
      "text/plain": [
       "  ride_id          rideable_type started_at          ended_at           \n",
       "1 0D9FA920C3062031 electric_bike 2023-05-07 19:53:48 2023-05-07 19:58:32\n",
       "2 92485E5FB5888ACD electric_bike 2023-05-06 18:54:08 2023-05-06 19:03:35\n",
       "3 FB144B3FC8300187 electric_bike 2023-05-21 00:40:21 2023-05-21 00:44:36\n",
       "4 DDEB93BC2CE9AA77 classic_bike  2023-05-10 16:47:01 2023-05-10 16:59:52\n",
       "5 C07B70172FC92F59 classic_bike  2023-05-09 18:30:34 2023-05-09 18:39:28\n",
       "6 2BA66385DF8F815A classic_bike  2023-05-30 15:01:21 2023-05-30 15:17:00\n",
       "  start_lat start_lng end_lat  end_lng   member_casual date       month day\n",
       "1 41.93941  -87.66383 41.93000 -87.65000 member        2023-05-07 05    07 \n",
       "2 41.93948  -87.66385 41.94000 -87.69000 member        2023-05-06 05    06 \n",
       "3 41.85379  -87.64672 41.86000 -87.65000 member        2023-05-21 05    21 \n",
       "4 41.89456  -87.65345 41.91598 -87.67733 member        2023-05-10 05    10 \n",
       "5 41.95708  -87.66420 41.93948 -87.66375 member        2023-05-09 05    09 \n",
       "6 41.88275  -87.64119 41.89259 -87.61729 member        2023-05-30 05    30 \n",
       "  year day_of_week ride_length\n",
       "1 2023 Sunday      284        \n",
       "2 2023 Saturday    567        \n",
       "3 2023 Sunday      255        \n",
       "4 2023 Wednesday   771        \n",
       "5 2023 Tuesday     534        \n",
       "6 2023 Tuesday     939        "
      ]
     },
     "metadata": {},
     "output_type": "display_data"
    },
    {
     "data": {
      "text/plain": [
       "   ride_id          rideable_type       started_at          ended_at        \n",
       " Length:4876486     Length:4876486     Length:4876486     Length:4876486    \n",
       " Class :character   Class :character   Class :character   Class :character  \n",
       " Mode  :character   Mode  :character   Mode  :character   Mode  :character  \n",
       "                                                                            \n",
       "                                                                            \n",
       "                                                                            \n",
       "   start_lat       start_lng         end_lat         end_lng      \n",
       " Min.   :41.64   Min.   :-87.92   Min.   : 0.00   Min.   :-87.99  \n",
       " 1st Qu.:41.88   1st Qu.:-87.66   1st Qu.:41.88   1st Qu.:-87.66  \n",
       " Median :41.90   Median :-87.64   Median :41.90   Median :-87.65  \n",
       " Mean   :41.90   Mean   :-87.65   Mean   :41.90   Mean   :-87.65  \n",
       " 3rd Qu.:41.93   3rd Qu.:-87.63   3rd Qu.:41.93   3rd Qu.:-87.63  \n",
       " Max.   :42.07   Max.   :-87.52   Max.   :42.09   Max.   :  0.00  \n",
       " member_casual           date               month               day           \n",
       " Length:4876486     Min.   :2023-05-01   Length:4876486     Length:4876486    \n",
       " Class :character   1st Qu.:2023-07-08   Class :character   Class :character  \n",
       " Mode  :character   Median :2023-09-05   Mode  :character   Mode  :character  \n",
       "                    Mean   :2023-09-25                                        \n",
       "                    3rd Qu.:2023-11-22                                        \n",
       "                    Max.   :2024-04-30                                        \n",
       "     year           day_of_week         ride_length    \n",
       " Length:4876486     Length:4876486     Min.   :   1.0  \n",
       " Class :character   Class :character   1st Qu.: 298.0  \n",
       " Mode  :character   Mode  :character   Median : 496.0  \n",
       "                                       Mean   : 563.4  \n",
       "                                       3rd Qu.: 781.0  \n",
       "                                       Max.   :1440.0  "
      ]
     },
     "metadata": {},
     "output_type": "display_data"
    }
   ],
   "source": [
    "dim(year_trips) \n",
    "head(year_trips)\n",
    "summary(year_trips)"
   ]
  },
  {
   "cell_type": "markdown",
   "metadata": {},
   "source": [
    "Number of rows decreased from 5731002 to 4901309 (decrease of 14.5%)."
   ]
  },
  {
   "cell_type": "markdown",
   "id": "401ddf37",
   "metadata": {
    "papermill": {
     "duration": 0.019268,
     "end_time": "2022-09-02T22:41:31.305771",
     "exception": false,
     "start_time": "2022-09-02T22:41:31.286503",
     "status": "completed"
    },
    "tags": []
   },
   "source": [
    "6. Calculating the ride distance for each ride."
   ]
  },
  {
   "cell_type": "code",
   "execution_count": 18,
   "id": "6c5d301b",
   "metadata": {
    "execution": {
     "iopub.execute_input": "2022-09-02T22:41:31.347296Z",
     "iopub.status.busy": "2022-09-02T22:41:31.345740Z",
     "iopub.status.idle": "2022-09-02T22:41:38.950308Z",
     "shell.execute_reply": "2022-09-02T22:41:38.948410Z"
    },
    "papermill": {
     "duration": 7.628359,
     "end_time": "2022-09-02T22:41:38.953624",
     "exception": false,
     "start_time": "2022-09-02T22:41:31.325265",
     "status": "completed"
    },
    "tags": [],
    "vscode": {
     "languageId": "r"
    }
   },
   "outputs": [
    {
     "name": "stdout",
     "output_type": "stream",
     "text": [
      "'data.frame':\t4876486 obs. of  16 variables:\n",
      " $ ride_id      : chr  \"0D9FA920C3062031\" \"92485E5FB5888ACD\" \"FB144B3FC8300187\" \"DDEB93BC2CE9AA77\" ...\n",
      " $ rideable_type: chr  \"electric_bike\" \"electric_bike\" \"electric_bike\" \"classic_bike\" ...\n",
      " $ started_at   : chr  \"2023-05-07 19:53:48\" \"2023-05-06 18:54:08\" \"2023-05-21 00:40:21\" \"2023-05-10 16:47:01\" ...\n",
      " $ ended_at     : chr  \"2023-05-07 19:58:32\" \"2023-05-06 19:03:35\" \"2023-05-21 00:44:36\" \"2023-05-10 16:59:52\" ...\n",
      " $ start_lat    : num  41.9 41.9 41.9 41.9 42 ...\n",
      " $ start_lng    : num  -87.7 -87.7 -87.6 -87.7 -87.7 ...\n",
      " $ end_lat      : num  41.9 41.9 41.9 41.9 41.9 ...\n",
      " $ end_lng      : num  -87.7 -87.7 -87.7 -87.7 -87.7 ...\n",
      " $ member_casual: chr  \"member\" \"member\" \"member\" \"member\" ...\n",
      " $ date         : Date, format: \"2023-05-07\" \"2023-05-06\" ...\n",
      " $ month        : chr  \"05\" \"05\" \"05\" \"05\" ...\n",
      " $ day          : chr  \"07\" \"06\" \"21\" \"10\" ...\n",
      " $ year         : chr  \"2023\" \"2023\" \"2023\" \"2023\" ...\n",
      " $ day_of_week  : chr  \"Sunday\" \"Saturday\" \"Sunday\" \"Wednesday\" ...\n",
      " $ ride_length  : num  284 567 255 771 534 939 291 759 178 375 ...\n",
      " $ ride_distance: num  1552 2169 741 3097 1956 ...\n"
     ]
    }
   ],
   "source": [
    "year_trips$ride_distance <- distGeo(matrix(c(year_trips$start_lng, year_trips$start_lat), ncol = 2), matrix(c(year_trips$end_lng, year_trips$end_lat), ncol = 2))\n",
    "str(year_trips)"
   ]
  },
  {
   "cell_type": "markdown",
   "id": "64985a03",
   "metadata": {
    "papermill": {
     "duration": 0.021554,
     "end_time": "2022-09-02T22:41:41.027722",
     "exception": false,
     "start_time": "2022-09-02T22:41:41.006168",
     "status": "completed"
    },
    "tags": []
   },
   "source": [
    "# **ANALYSE**"
   ]
  },
  {
   "cell_type": "code",
   "execution_count": 19,
   "id": "536efd71",
   "metadata": {
    "execution": {
     "iopub.execute_input": "2022-09-02T22:41:41.116809Z",
     "iopub.status.busy": "2022-09-02T22:41:41.115080Z",
     "iopub.status.idle": "2022-09-02T22:41:41.169600Z",
     "shell.execute_reply": "2022-09-02T22:41:41.167702Z"
    },
    "papermill": {
     "duration": 0.080181,
     "end_time": "2022-09-02T22:41:41.172071",
     "exception": false,
     "start_time": "2022-09-02T22:41:41.091890",
     "status": "completed"
    },
    "tags": [],
    "vscode": {
     "languageId": "r"
    }
   },
   "outputs": [],
   "source": [
    "year_trips$day_of_week <- \n",
    "    ordered(year_trips$day_of_week, levels = c('Monday', 'Tuesday', 'Wednesday', 'Thursday', 'Friday', 'Saturday', 'Sunday'))"
   ]
  },
  {
   "cell_type": "code",
   "execution_count": 20,
   "id": "6f416ce9",
   "metadata": {
    "execution": {
     "iopub.execute_input": "2022-09-02T22:41:41.217020Z",
     "iopub.status.busy": "2022-09-02T22:41:41.215536Z",
     "iopub.status.idle": "2022-09-02T22:41:41.353764Z",
     "shell.execute_reply": "2022-09-02T22:41:41.351957Z"
    },
    "papermill": {
     "duration": 0.163308,
     "end_time": "2022-09-02T22:41:41.356305",
     "exception": false,
     "start_time": "2022-09-02T22:41:41.192997",
     "status": "completed"
    },
    "tags": [],
    "vscode": {
     "languageId": "r"
    }
   },
   "outputs": [
    {
     "data": {
      "text/html": [
       "<table class=\"dataframe\">\n",
       "<caption>A tibble: 14 × 3</caption>\n",
       "<thead>\n",
       "\t<tr><th scope=col>member_casual</th><th scope=col>day_of_week</th><th scope=col>number_of_ride</th></tr>\n",
       "\t<tr><th scope=col>&lt;chr&gt;</th><th scope=col>&lt;ord&gt;</th><th scope=col>&lt;int&gt;</th></tr>\n",
       "</thead>\n",
       "<tbody>\n",
       "\t<tr><td>casual</td><td>Monday   </td><td>185276</td></tr>\n",
       "\t<tr><td>member</td><td>Monday   </td><td>469619</td></tr>\n",
       "\t<tr><td>casual</td><td>Tuesday  </td><td>196801</td></tr>\n",
       "\t<tr><td>member</td><td>Tuesday  </td><td>532722</td></tr>\n",
       "\t<tr><td>casual</td><td>Wednesday</td><td>196864</td></tr>\n",
       "\t<tr><td>member</td><td>Wednesday</td><td>534721</td></tr>\n",
       "\t<tr><td>casual</td><td>Thursday </td><td>212058</td></tr>\n",
       "\t<tr><td>member</td><td>Thursday </td><td>539987</td></tr>\n",
       "\t<tr><td>casual</td><td>Friday   </td><td>232067</td></tr>\n",
       "\t<tr><td>member</td><td>Friday   </td><td>471830</td></tr>\n",
       "\t<tr><td>casual</td><td>Saturday </td><td>294202</td></tr>\n",
       "\t<tr><td>member</td><td>Saturday </td><td>417000</td></tr>\n",
       "\t<tr><td>casual</td><td>Sunday   </td><td>238217</td></tr>\n",
       "\t<tr><td>member</td><td>Sunday   </td><td>355122</td></tr>\n",
       "</tbody>\n",
       "</table>\n"
      ],
      "text/latex": [
       "A tibble: 14 × 3\n",
       "\\begin{tabular}{lll}\n",
       " member\\_casual & day\\_of\\_week & number\\_of\\_ride\\\\\n",
       " <chr> & <ord> & <int>\\\\\n",
       "\\hline\n",
       "\t casual & Monday    & 185276\\\\\n",
       "\t member & Monday    & 469619\\\\\n",
       "\t casual & Tuesday   & 196801\\\\\n",
       "\t member & Tuesday   & 532722\\\\\n",
       "\t casual & Wednesday & 196864\\\\\n",
       "\t member & Wednesday & 534721\\\\\n",
       "\t casual & Thursday  & 212058\\\\\n",
       "\t member & Thursday  & 539987\\\\\n",
       "\t casual & Friday    & 232067\\\\\n",
       "\t member & Friday    & 471830\\\\\n",
       "\t casual & Saturday  & 294202\\\\\n",
       "\t member & Saturday  & 417000\\\\\n",
       "\t casual & Sunday    & 238217\\\\\n",
       "\t member & Sunday    & 355122\\\\\n",
       "\\end{tabular}\n"
      ],
      "text/markdown": [
       "\n",
       "A tibble: 14 × 3\n",
       "\n",
       "| member_casual &lt;chr&gt; | day_of_week &lt;ord&gt; | number_of_ride &lt;int&gt; |\n",
       "|---|---|---|\n",
       "| casual | Monday    | 185276 |\n",
       "| member | Monday    | 469619 |\n",
       "| casual | Tuesday   | 196801 |\n",
       "| member | Tuesday   | 532722 |\n",
       "| casual | Wednesday | 196864 |\n",
       "| member | Wednesday | 534721 |\n",
       "| casual | Thursday  | 212058 |\n",
       "| member | Thursday  | 539987 |\n",
       "| casual | Friday    | 232067 |\n",
       "| member | Friday    | 471830 |\n",
       "| casual | Saturday  | 294202 |\n",
       "| member | Saturday  | 417000 |\n",
       "| casual | Sunday    | 238217 |\n",
       "| member | Sunday    | 355122 |\n",
       "\n"
      ],
      "text/plain": [
       "   member_casual day_of_week number_of_ride\n",
       "1  casual        Monday      185276        \n",
       "2  member        Monday      469619        \n",
       "3  casual        Tuesday     196801        \n",
       "4  member        Tuesday     532722        \n",
       "5  casual        Wednesday   196864        \n",
       "6  member        Wednesday   534721        \n",
       "7  casual        Thursday    212058        \n",
       "8  member        Thursday    539987        \n",
       "9  casual        Friday      232067        \n",
       "10 member        Friday      471830        \n",
       "11 casual        Saturday    294202        \n",
       "12 member        Saturday    417000        \n",
       "13 casual        Sunday      238217        \n",
       "14 member        Sunday      355122        "
      ]
     },
     "metadata": {},
     "output_type": "display_data"
    }
   ],
   "source": [
    "year_trips %>%\n",
    "  group_by(member_casual, day_of_week) %>%\n",
    "  summarise(number_of_ride = n(), .groups = 'drop') %>%\n",
    "  arrange(day_of_week)"
   ]
  },
  {
   "cell_type": "code",
   "execution_count": 21,
   "id": "95d2bd13",
   "metadata": {
    "execution": {
     "iopub.execute_input": "2022-09-02T22:41:41.403758Z",
     "iopub.status.busy": "2022-09-02T22:41:41.402143Z",
     "iopub.status.idle": "2022-09-02T22:41:41.443323Z",
     "shell.execute_reply": "2022-09-02T22:41:41.441387Z"
    },
    "papermill": {
     "duration": 0.067664,
     "end_time": "2022-09-02T22:41:41.445969",
     "exception": false,
     "start_time": "2022-09-02T22:41:41.378305",
     "status": "completed"
    },
    "tags": [],
    "vscode": {
     "languageId": "r"
    }
   },
   "outputs": [],
   "source": [
    "year_trips$month <-\n",
    "    ordered(year_trips$month, levels = c('05', '06', '07', '08', '09', '10', '11', '12', '01', '02', '03', '04'))"
   ]
  },
  {
   "cell_type": "code",
   "execution_count": 22,
   "id": "977d778d",
   "metadata": {
    "execution": {
     "iopub.execute_input": "2022-09-02T22:41:41.492404Z",
     "iopub.status.busy": "2022-09-02T22:41:41.490816Z",
     "iopub.status.idle": "2022-09-02T22:41:41.618160Z",
     "shell.execute_reply": "2022-09-02T22:41:41.616351Z"
    },
    "papermill": {
     "duration": 0.152903,
     "end_time": "2022-09-02T22:41:41.620476",
     "exception": false,
     "start_time": "2022-09-02T22:41:41.467573",
     "status": "completed"
    },
    "tags": [],
    "vscode": {
     "languageId": "r"
    }
   },
   "outputs": [
    {
     "data": {
      "text/html": [
       "<table class=\"dataframe\">\n",
       "<caption>A tibble: 24 × 3</caption>\n",
       "<thead>\n",
       "\t<tr><th scope=col>member_casual</th><th scope=col>month</th><th scope=col>number_of_ride</th></tr>\n",
       "\t<tr><th scope=col>&lt;chr&gt;</th><th scope=col>&lt;ord&gt;</th><th scope=col>&lt;int&gt;</th></tr>\n",
       "</thead>\n",
       "<tbody>\n",
       "\t<tr><td>casual</td><td>05</td><td>169558</td></tr>\n",
       "\t<tr><td>member</td><td>05</td><td>330358</td></tr>\n",
       "\t<tr><td>casual</td><td>06</td><td>221487</td></tr>\n",
       "\t<tr><td>member</td><td>06</td><td>371516</td></tr>\n",
       "\t<tr><td>casual</td><td>07</td><td>237303</td></tr>\n",
       "\t<tr><td>member</td><td>07</td><td>384212</td></tr>\n",
       "\t<tr><td>casual</td><td>08</td><td>229117</td></tr>\n",
       "\t<tr><td>member</td><td>08</td><td>407410</td></tr>\n",
       "\t<tr><td>casual</td><td>09</td><td>199955</td></tr>\n",
       "\t<tr><td>member</td><td>09</td><td>361716</td></tr>\n",
       "\t<tr><td>casual</td><td>10</td><td>143014</td></tr>\n",
       "\t<tr><td>member</td><td>10</td><td>329680</td></tr>\n",
       "\t<tr><td>casual</td><td>11</td><td> 83949</td></tr>\n",
       "\t<tr><td>member</td><td>11</td><td>244576</td></tr>\n",
       "\t<tr><td>casual</td><td>12</td><td> 45465</td></tr>\n",
       "\t<tr><td>member</td><td>12</td><td>160705</td></tr>\n",
       "\t<tr><td>casual</td><td>01</td><td> 22180</td></tr>\n",
       "\t<tr><td>member</td><td>01</td><td>112662</td></tr>\n",
       "\t<tr><td>casual</td><td>02</td><td> 39067</td></tr>\n",
       "\t<tr><td>member</td><td>02</td><td>161279</td></tr>\n",
       "\t<tr><td>casual</td><td>03</td><td> 64919</td></tr>\n",
       "\t<tr><td>member</td><td>03</td><td>200837</td></tr>\n",
       "\t<tr><td>casual</td><td>04</td><td> 99471</td></tr>\n",
       "\t<tr><td>member</td><td>04</td><td>256050</td></tr>\n",
       "</tbody>\n",
       "</table>\n"
      ],
      "text/latex": [
       "A tibble: 24 × 3\n",
       "\\begin{tabular}{lll}\n",
       " member\\_casual & month & number\\_of\\_ride\\\\\n",
       " <chr> & <ord> & <int>\\\\\n",
       "\\hline\n",
       "\t casual & 05 & 169558\\\\\n",
       "\t member & 05 & 330358\\\\\n",
       "\t casual & 06 & 221487\\\\\n",
       "\t member & 06 & 371516\\\\\n",
       "\t casual & 07 & 237303\\\\\n",
       "\t member & 07 & 384212\\\\\n",
       "\t casual & 08 & 229117\\\\\n",
       "\t member & 08 & 407410\\\\\n",
       "\t casual & 09 & 199955\\\\\n",
       "\t member & 09 & 361716\\\\\n",
       "\t casual & 10 & 143014\\\\\n",
       "\t member & 10 & 329680\\\\\n",
       "\t casual & 11 &  83949\\\\\n",
       "\t member & 11 & 244576\\\\\n",
       "\t casual & 12 &  45465\\\\\n",
       "\t member & 12 & 160705\\\\\n",
       "\t casual & 01 &  22180\\\\\n",
       "\t member & 01 & 112662\\\\\n",
       "\t casual & 02 &  39067\\\\\n",
       "\t member & 02 & 161279\\\\\n",
       "\t casual & 03 &  64919\\\\\n",
       "\t member & 03 & 200837\\\\\n",
       "\t casual & 04 &  99471\\\\\n",
       "\t member & 04 & 256050\\\\\n",
       "\\end{tabular}\n"
      ],
      "text/markdown": [
       "\n",
       "A tibble: 24 × 3\n",
       "\n",
       "| member_casual &lt;chr&gt; | month &lt;ord&gt; | number_of_ride &lt;int&gt; |\n",
       "|---|---|---|\n",
       "| casual | 05 | 169558 |\n",
       "| member | 05 | 330358 |\n",
       "| casual | 06 | 221487 |\n",
       "| member | 06 | 371516 |\n",
       "| casual | 07 | 237303 |\n",
       "| member | 07 | 384212 |\n",
       "| casual | 08 | 229117 |\n",
       "| member | 08 | 407410 |\n",
       "| casual | 09 | 199955 |\n",
       "| member | 09 | 361716 |\n",
       "| casual | 10 | 143014 |\n",
       "| member | 10 | 329680 |\n",
       "| casual | 11 |  83949 |\n",
       "| member | 11 | 244576 |\n",
       "| casual | 12 |  45465 |\n",
       "| member | 12 | 160705 |\n",
       "| casual | 01 |  22180 |\n",
       "| member | 01 | 112662 |\n",
       "| casual | 02 |  39067 |\n",
       "| member | 02 | 161279 |\n",
       "| casual | 03 |  64919 |\n",
       "| member | 03 | 200837 |\n",
       "| casual | 04 |  99471 |\n",
       "| member | 04 | 256050 |\n",
       "\n"
      ],
      "text/plain": [
       "   member_casual month number_of_ride\n",
       "1  casual        05    169558        \n",
       "2  member        05    330358        \n",
       "3  casual        06    221487        \n",
       "4  member        06    371516        \n",
       "5  casual        07    237303        \n",
       "6  member        07    384212        \n",
       "7  casual        08    229117        \n",
       "8  member        08    407410        \n",
       "9  casual        09    199955        \n",
       "10 member        09    361716        \n",
       "11 casual        10    143014        \n",
       "12 member        10    329680        \n",
       "13 casual        11     83949        \n",
       "14 member        11    244576        \n",
       "15 casual        12     45465        \n",
       "16 member        12    160705        \n",
       "17 casual        01     22180        \n",
       "18 member        01    112662        \n",
       "19 casual        02     39067        \n",
       "20 member        02    161279        \n",
       "21 casual        03     64919        \n",
       "22 member        03    200837        \n",
       "23 casual        04     99471        \n",
       "24 member        04    256050        "
      ]
     },
     "metadata": {},
     "output_type": "display_data"
    }
   ],
   "source": [
    "year_trips %>%\n",
    "  group_by(member_casual, month) %>%\n",
    "  summarise(number_of_ride = n(), .groups = 'drop') %>%\n",
    "  arrange(month)"
   ]
  },
  {
   "cell_type": "markdown",
   "id": "97e4e3df",
   "metadata": {
    "papermill": {
     "duration": 0.022373,
     "end_time": "2022-09-02T22:41:41.668049",
     "exception": false,
     "start_time": "2022-09-02T22:41:41.645676",
     "status": "completed"
    },
    "tags": []
   },
   "source": [
    "1. Casual riders are more likely to take a ride on weekend while membership riders use on weekday more often.\n",
    "2. May - September is the peak season for both rider types"
   ]
  },
  {
   "cell_type": "code",
   "execution_count": 23,
   "metadata": {
    "vscode": {
     "languageId": "r"
    }
   },
   "outputs": [
    {
     "data": {
      "text/html": [
       "<table class=\"dataframe\">\n",
       "<caption>A tibble: 14 × 3</caption>\n",
       "<thead>\n",
       "\t<tr><th scope=col>member_casual</th><th scope=col>day_of_week</th><th scope=col>average_ride_length</th></tr>\n",
       "\t<tr><th scope=col>&lt;chr&gt;</th><th scope=col>&lt;ord&gt;</th><th scope=col>&lt;dbl&gt;</th></tr>\n",
       "</thead>\n",
       "<tbody>\n",
       "\t<tr><td>casual</td><td>Monday   </td><td>596.1036</td></tr>\n",
       "\t<tr><td>member</td><td>Monday   </td><td>527.3598</td></tr>\n",
       "\t<tr><td>casual</td><td>Tuesday  </td><td>589.8352</td></tr>\n",
       "\t<tr><td>member</td><td>Tuesday  </td><td>536.7515</td></tr>\n",
       "\t<tr><td>casual</td><td>Wednesday</td><td>581.6803</td></tr>\n",
       "\t<tr><td>member</td><td>Wednesday</td><td>534.6693</td></tr>\n",
       "\t<tr><td>casual</td><td>Thursday </td><td>586.5485</td></tr>\n",
       "\t<tr><td>member</td><td>Thursday </td><td>535.8985</td></tr>\n",
       "\t<tr><td>casual</td><td>Friday   </td><td>606.8912</td></tr>\n",
       "\t<tr><td>member</td><td>Friday   </td><td>534.4624</td></tr>\n",
       "\t<tr><td>casual</td><td>Saturday </td><td>652.2186</td></tr>\n",
       "\t<tr><td>member</td><td>Saturday </td><td>564.9930</td></tr>\n",
       "\t<tr><td>casual</td><td>Sunday   </td><td>647.3026</td></tr>\n",
       "\t<tr><td>member</td><td>Sunday   </td><td>558.4640</td></tr>\n",
       "</tbody>\n",
       "</table>\n"
      ],
      "text/latex": [
       "A tibble: 14 × 3\n",
       "\\begin{tabular}{lll}\n",
       " member\\_casual & day\\_of\\_week & average\\_ride\\_length\\\\\n",
       " <chr> & <ord> & <dbl>\\\\\n",
       "\\hline\n",
       "\t casual & Monday    & 596.1036\\\\\n",
       "\t member & Monday    & 527.3598\\\\\n",
       "\t casual & Tuesday   & 589.8352\\\\\n",
       "\t member & Tuesday   & 536.7515\\\\\n",
       "\t casual & Wednesday & 581.6803\\\\\n",
       "\t member & Wednesday & 534.6693\\\\\n",
       "\t casual & Thursday  & 586.5485\\\\\n",
       "\t member & Thursday  & 535.8985\\\\\n",
       "\t casual & Friday    & 606.8912\\\\\n",
       "\t member & Friday    & 534.4624\\\\\n",
       "\t casual & Saturday  & 652.2186\\\\\n",
       "\t member & Saturday  & 564.9930\\\\\n",
       "\t casual & Sunday    & 647.3026\\\\\n",
       "\t member & Sunday    & 558.4640\\\\\n",
       "\\end{tabular}\n"
      ],
      "text/markdown": [
       "\n",
       "A tibble: 14 × 3\n",
       "\n",
       "| member_casual &lt;chr&gt; | day_of_week &lt;ord&gt; | average_ride_length &lt;dbl&gt; |\n",
       "|---|---|---|\n",
       "| casual | Monday    | 596.1036 |\n",
       "| member | Monday    | 527.3598 |\n",
       "| casual | Tuesday   | 589.8352 |\n",
       "| member | Tuesday   | 536.7515 |\n",
       "| casual | Wednesday | 581.6803 |\n",
       "| member | Wednesday | 534.6693 |\n",
       "| casual | Thursday  | 586.5485 |\n",
       "| member | Thursday  | 535.8985 |\n",
       "| casual | Friday    | 606.8912 |\n",
       "| member | Friday    | 534.4624 |\n",
       "| casual | Saturday  | 652.2186 |\n",
       "| member | Saturday  | 564.9930 |\n",
       "| casual | Sunday    | 647.3026 |\n",
       "| member | Sunday    | 558.4640 |\n",
       "\n"
      ],
      "text/plain": [
       "   member_casual day_of_week average_ride_length\n",
       "1  casual        Monday      596.1036           \n",
       "2  member        Monday      527.3598           \n",
       "3  casual        Tuesday     589.8352           \n",
       "4  member        Tuesday     536.7515           \n",
       "5  casual        Wednesday   581.6803           \n",
       "6  member        Wednesday   534.6693           \n",
       "7  casual        Thursday    586.5485           \n",
       "8  member        Thursday    535.8985           \n",
       "9  casual        Friday      606.8912           \n",
       "10 member        Friday      534.4624           \n",
       "11 casual        Saturday    652.2186           \n",
       "12 member        Saturday    564.9930           \n",
       "13 casual        Sunday      647.3026           \n",
       "14 member        Sunday      558.4640           "
      ]
     },
     "metadata": {},
     "output_type": "display_data"
    }
   ],
   "source": [
    "year_trips %>%\n",
    "  group_by(member_casual, day_of_week) %>%\n",
    "  summarise(average_ride_length = mean(ride_length), .groups = 'drop') %>%\n",
    "  arrange(day_of_week)"
   ]
  },
  {
   "cell_type": "code",
   "execution_count": 24,
   "id": "2b78d895",
   "metadata": {
    "execution": {
     "iopub.execute_input": "2022-09-02T22:41:44.088851Z",
     "iopub.status.busy": "2022-09-02T22:41:44.086740Z",
     "iopub.status.idle": "2022-09-02T22:41:44.233899Z",
     "shell.execute_reply": "2022-09-02T22:41:44.232005Z"
    },
    "papermill": {
     "duration": 0.174737,
     "end_time": "2022-09-02T22:41:44.236347",
     "exception": false,
     "start_time": "2022-09-02T22:41:44.061610",
     "status": "completed"
    },
    "tags": [],
    "vscode": {
     "languageId": "r"
    }
   },
   "outputs": [
    {
     "data": {
      "text/html": [
       "<table class=\"dataframe\">\n",
       "<caption>A tibble: 24 × 3</caption>\n",
       "<thead>\n",
       "\t<tr><th scope=col>member_casual</th><th scope=col>month</th><th scope=col>average_ride_length</th></tr>\n",
       "\t<tr><th scope=col>&lt;chr&gt;</th><th scope=col>&lt;ord&gt;</th><th scope=col>&lt;dbl&gt;</th></tr>\n",
       "</thead>\n",
       "<tbody>\n",
       "\t<tr><td>casual</td><td>05</td><td>618.6068</td></tr>\n",
       "\t<tr><td>member</td><td>05</td><td>546.9639</td></tr>\n",
       "\t<tr><td>casual</td><td>06</td><td>634.6084</td></tr>\n",
       "\t<tr><td>member</td><td>06</td><td>565.3517</td></tr>\n",
       "\t<tr><td>casual</td><td>07</td><td>640.4746</td></tr>\n",
       "\t<tr><td>member</td><td>07</td><td>568.9413</td></tr>\n",
       "\t<tr><td>casual</td><td>08</td><td>637.6936</td></tr>\n",
       "\t<tr><td>member</td><td>08</td><td>570.0250</td></tr>\n",
       "\t<tr><td>casual</td><td>09</td><td>627.1094</td></tr>\n",
       "\t<tr><td>member</td><td>09</td><td>558.2748</td></tr>\n",
       "\t<tr><td>casual</td><td>10</td><td>583.4557</td></tr>\n",
       "\t<tr><td>member</td><td>10</td><td>525.9013</td></tr>\n",
       "\t<tr><td>casual</td><td>11</td><td>549.1326</td></tr>\n",
       "\t<tr><td>member</td><td>11</td><td>506.5873</td></tr>\n",
       "\t<tr><td>casual</td><td>12</td><td>527.0920</td></tr>\n",
       "\t<tr><td>member</td><td>12</td><td>496.6327</td></tr>\n",
       "\t<tr><td>casual</td><td>01</td><td>486.7580</td></tr>\n",
       "\t<tr><td>member</td><td>01</td><td>477.9037</td></tr>\n",
       "\t<tr><td>casual</td><td>02</td><td>555.1818</td></tr>\n",
       "\t<tr><td>member</td><td>02</td><td>514.7659</td></tr>\n",
       "\t<tr><td>casual</td><td>03</td><td>583.7718</td></tr>\n",
       "\t<tr><td>member</td><td>03</td><td>511.4914</td></tr>\n",
       "\t<tr><td>casual</td><td>04</td><td>598.3344</td></tr>\n",
       "\t<tr><td>member</td><td>04</td><td>526.4617</td></tr>\n",
       "</tbody>\n",
       "</table>\n"
      ],
      "text/latex": [
       "A tibble: 24 × 3\n",
       "\\begin{tabular}{lll}\n",
       " member\\_casual & month & average\\_ride\\_length\\\\\n",
       " <chr> & <ord> & <dbl>\\\\\n",
       "\\hline\n",
       "\t casual & 05 & 618.6068\\\\\n",
       "\t member & 05 & 546.9639\\\\\n",
       "\t casual & 06 & 634.6084\\\\\n",
       "\t member & 06 & 565.3517\\\\\n",
       "\t casual & 07 & 640.4746\\\\\n",
       "\t member & 07 & 568.9413\\\\\n",
       "\t casual & 08 & 637.6936\\\\\n",
       "\t member & 08 & 570.0250\\\\\n",
       "\t casual & 09 & 627.1094\\\\\n",
       "\t member & 09 & 558.2748\\\\\n",
       "\t casual & 10 & 583.4557\\\\\n",
       "\t member & 10 & 525.9013\\\\\n",
       "\t casual & 11 & 549.1326\\\\\n",
       "\t member & 11 & 506.5873\\\\\n",
       "\t casual & 12 & 527.0920\\\\\n",
       "\t member & 12 & 496.6327\\\\\n",
       "\t casual & 01 & 486.7580\\\\\n",
       "\t member & 01 & 477.9037\\\\\n",
       "\t casual & 02 & 555.1818\\\\\n",
       "\t member & 02 & 514.7659\\\\\n",
       "\t casual & 03 & 583.7718\\\\\n",
       "\t member & 03 & 511.4914\\\\\n",
       "\t casual & 04 & 598.3344\\\\\n",
       "\t member & 04 & 526.4617\\\\\n",
       "\\end{tabular}\n"
      ],
      "text/markdown": [
       "\n",
       "A tibble: 24 × 3\n",
       "\n",
       "| member_casual &lt;chr&gt; | month &lt;ord&gt; | average_ride_length &lt;dbl&gt; |\n",
       "|---|---|---|\n",
       "| casual | 05 | 618.6068 |\n",
       "| member | 05 | 546.9639 |\n",
       "| casual | 06 | 634.6084 |\n",
       "| member | 06 | 565.3517 |\n",
       "| casual | 07 | 640.4746 |\n",
       "| member | 07 | 568.9413 |\n",
       "| casual | 08 | 637.6936 |\n",
       "| member | 08 | 570.0250 |\n",
       "| casual | 09 | 627.1094 |\n",
       "| member | 09 | 558.2748 |\n",
       "| casual | 10 | 583.4557 |\n",
       "| member | 10 | 525.9013 |\n",
       "| casual | 11 | 549.1326 |\n",
       "| member | 11 | 506.5873 |\n",
       "| casual | 12 | 527.0920 |\n",
       "| member | 12 | 496.6327 |\n",
       "| casual | 01 | 486.7580 |\n",
       "| member | 01 | 477.9037 |\n",
       "| casual | 02 | 555.1818 |\n",
       "| member | 02 | 514.7659 |\n",
       "| casual | 03 | 583.7718 |\n",
       "| member | 03 | 511.4914 |\n",
       "| casual | 04 | 598.3344 |\n",
       "| member | 04 | 526.4617 |\n",
       "\n"
      ],
      "text/plain": [
       "   member_casual month average_ride_length\n",
       "1  casual        05    618.6068           \n",
       "2  member        05    546.9639           \n",
       "3  casual        06    634.6084           \n",
       "4  member        06    565.3517           \n",
       "5  casual        07    640.4746           \n",
       "6  member        07    568.9413           \n",
       "7  casual        08    637.6936           \n",
       "8  member        08    570.0250           \n",
       "9  casual        09    627.1094           \n",
       "10 member        09    558.2748           \n",
       "11 casual        10    583.4557           \n",
       "12 member        10    525.9013           \n",
       "13 casual        11    549.1326           \n",
       "14 member        11    506.5873           \n",
       "15 casual        12    527.0920           \n",
       "16 member        12    496.6327           \n",
       "17 casual        01    486.7580           \n",
       "18 member        01    477.9037           \n",
       "19 casual        02    555.1818           \n",
       "20 member        02    514.7659           \n",
       "21 casual        03    583.7718           \n",
       "22 member        03    511.4914           \n",
       "23 casual        04    598.3344           \n",
       "24 member        04    526.4617           "
      ]
     },
     "metadata": {},
     "output_type": "display_data"
    }
   ],
   "source": [
    "year_trips %>%\n",
    "  group_by(member_casual, month) %>%\n",
    "  summarise(average_ride_length = mean(ride_length), .groups = 'drop') %>%\n",
    "  arrange(month)"
   ]
  },
  {
   "cell_type": "markdown",
   "id": "c1ac4fa0",
   "metadata": {
    "papermill": {
     "duration": 0.022179,
     "end_time": "2022-09-02T22:41:44.281128",
     "exception": false,
     "start_time": "2022-09-02T22:41:44.258949",
     "status": "completed"
    },
    "tags": []
   },
   "source": [
    "1. Membership rider's trip is shorter than casual ones regardless of the season or day.\n",
    "2. All users take longer year_trips over weekend and through the months of May-Septemeber."
   ]
  },
  {
   "cell_type": "code",
   "execution_count": 25,
   "id": "35d5a8dd",
   "metadata": {
    "execution": {
     "iopub.execute_input": "2022-09-02T22:41:44.375705Z",
     "iopub.status.busy": "2022-09-02T22:41:44.374081Z",
     "iopub.status.idle": "2022-09-02T22:41:44.529615Z",
     "shell.execute_reply": "2022-09-02T22:41:44.527264Z"
    },
    "papermill": {
     "duration": 0.182754,
     "end_time": "2022-09-02T22:41:44.532871",
     "exception": false,
     "start_time": "2022-09-02T22:41:44.350117",
     "status": "completed"
    },
    "tags": [],
    "vscode": {
     "languageId": "r"
    }
   },
   "outputs": [
    {
     "data": {
      "text/html": [
       "<table class=\"dataframe\">\n",
       "<caption>A tibble: 14 × 3</caption>\n",
       "<thead>\n",
       "\t<tr><th scope=col>member_casual</th><th scope=col>day_of_week</th><th scope=col>distance_of_ride</th></tr>\n",
       "\t<tr><th scope=col>&lt;chr&gt;</th><th scope=col>&lt;ord&gt;</th><th scope=col>&lt;dbl&gt;</th></tr>\n",
       "</thead>\n",
       "<tbody>\n",
       "\t<tr><td>casual</td><td>Monday   </td><td>1698.032</td></tr>\n",
       "\t<tr><td>member</td><td>Monday   </td><td>1775.626</td></tr>\n",
       "\t<tr><td>casual</td><td>Tuesday  </td><td>1748.986</td></tr>\n",
       "\t<tr><td>member</td><td>Tuesday  </td><td>1817.093</td></tr>\n",
       "\t<tr><td>casual</td><td>Wednesday</td><td>1750.422</td></tr>\n",
       "\t<tr><td>member</td><td>Wednesday</td><td>1814.022</td></tr>\n",
       "\t<tr><td>casual</td><td>Thursday </td><td>1794.773</td></tr>\n",
       "\t<tr><td>member</td><td>Thursday </td><td>1831.281</td></tr>\n",
       "\t<tr><td>casual</td><td>Friday   </td><td>1724.337</td></tr>\n",
       "\t<tr><td>member</td><td>Friday   </td><td>1776.426</td></tr>\n",
       "\t<tr><td>casual</td><td>Saturday </td><td>1734.515</td></tr>\n",
       "\t<tr><td>member</td><td>Saturday </td><td>1817.912</td></tr>\n",
       "\t<tr><td>casual</td><td>Sunday   </td><td>1725.278</td></tr>\n",
       "\t<tr><td>member</td><td>Sunday   </td><td>1801.455</td></tr>\n",
       "</tbody>\n",
       "</table>\n"
      ],
      "text/latex": [
       "A tibble: 14 × 3\n",
       "\\begin{tabular}{lll}\n",
       " member\\_casual & day\\_of\\_week & distance\\_of\\_ride\\\\\n",
       " <chr> & <ord> & <dbl>\\\\\n",
       "\\hline\n",
       "\t casual & Monday    & 1698.032\\\\\n",
       "\t member & Monday    & 1775.626\\\\\n",
       "\t casual & Tuesday   & 1748.986\\\\\n",
       "\t member & Tuesday   & 1817.093\\\\\n",
       "\t casual & Wednesday & 1750.422\\\\\n",
       "\t member & Wednesday & 1814.022\\\\\n",
       "\t casual & Thursday  & 1794.773\\\\\n",
       "\t member & Thursday  & 1831.281\\\\\n",
       "\t casual & Friday    & 1724.337\\\\\n",
       "\t member & Friday    & 1776.426\\\\\n",
       "\t casual & Saturday  & 1734.515\\\\\n",
       "\t member & Saturday  & 1817.912\\\\\n",
       "\t casual & Sunday    & 1725.278\\\\\n",
       "\t member & Sunday    & 1801.455\\\\\n",
       "\\end{tabular}\n"
      ],
      "text/markdown": [
       "\n",
       "A tibble: 14 × 3\n",
       "\n",
       "| member_casual &lt;chr&gt; | day_of_week &lt;ord&gt; | distance_of_ride &lt;dbl&gt; |\n",
       "|---|---|---|\n",
       "| casual | Monday    | 1698.032 |\n",
       "| member | Monday    | 1775.626 |\n",
       "| casual | Tuesday   | 1748.986 |\n",
       "| member | Tuesday   | 1817.093 |\n",
       "| casual | Wednesday | 1750.422 |\n",
       "| member | Wednesday | 1814.022 |\n",
       "| casual | Thursday  | 1794.773 |\n",
       "| member | Thursday  | 1831.281 |\n",
       "| casual | Friday    | 1724.337 |\n",
       "| member | Friday    | 1776.426 |\n",
       "| casual | Saturday  | 1734.515 |\n",
       "| member | Saturday  | 1817.912 |\n",
       "| casual | Sunday    | 1725.278 |\n",
       "| member | Sunday    | 1801.455 |\n",
       "\n"
      ],
      "text/plain": [
       "   member_casual day_of_week distance_of_ride\n",
       "1  casual        Monday      1698.032        \n",
       "2  member        Monday      1775.626        \n",
       "3  casual        Tuesday     1748.986        \n",
       "4  member        Tuesday     1817.093        \n",
       "5  casual        Wednesday   1750.422        \n",
       "6  member        Wednesday   1814.022        \n",
       "7  casual        Thursday    1794.773        \n",
       "8  member        Thursday    1831.281        \n",
       "9  casual        Friday      1724.337        \n",
       "10 member        Friday      1776.426        \n",
       "11 casual        Saturday    1734.515        \n",
       "12 member        Saturday    1817.912        \n",
       "13 casual        Sunday      1725.278        \n",
       "14 member        Sunday      1801.455        "
      ]
     },
     "metadata": {},
     "output_type": "display_data"
    }
   ],
   "source": [
    "year_trips %>%\n",
    "  group_by(member_casual, day_of_week) %>%\n",
    "  summarise(distance_of_ride = mean(ride_distance), .groups = 'drop') %>%\n",
    "  arrange(day_of_week)"
   ]
  },
  {
   "cell_type": "code",
   "execution_count": 26,
   "id": "0c43f7ca",
   "metadata": {
    "execution": {
     "iopub.execute_input": "2022-09-02T22:41:44.581091Z",
     "iopub.status.busy": "2022-09-02T22:41:44.579475Z",
     "iopub.status.idle": "2022-09-02T22:41:44.727074Z",
     "shell.execute_reply": "2022-09-02T22:41:44.724987Z"
    },
    "papermill": {
     "duration": 0.174525,
     "end_time": "2022-09-02T22:41:44.729803",
     "exception": false,
     "start_time": "2022-09-02T22:41:44.555278",
     "status": "completed"
    },
    "tags": [],
    "vscode": {
     "languageId": "r"
    }
   },
   "outputs": [
    {
     "data": {
      "text/html": [
       "<table class=\"dataframe\">\n",
       "<caption>A tibble: 24 × 3</caption>\n",
       "<thead>\n",
       "\t<tr><th scope=col>member_casual</th><th scope=col>month</th><th scope=col>distance_of_ride</th></tr>\n",
       "\t<tr><th scope=col>&lt;chr&gt;</th><th scope=col>&lt;ord&gt;</th><th scope=col>&lt;dbl&gt;</th></tr>\n",
       "</thead>\n",
       "<tbody>\n",
       "\t<tr><td>casual</td><td>05</td><td>1761.072</td></tr>\n",
       "\t<tr><td>member</td><td>05</td><td>1842.595</td></tr>\n",
       "\t<tr><td>casual</td><td>06</td><td>1851.848</td></tr>\n",
       "\t<tr><td>member</td><td>06</td><td>1920.028</td></tr>\n",
       "\t<tr><td>casual</td><td>07</td><td>1780.281</td></tr>\n",
       "\t<tr><td>member</td><td>07</td><td>1884.293</td></tr>\n",
       "\t<tr><td>casual</td><td>08</td><td>1791.439</td></tr>\n",
       "\t<tr><td>member</td><td>08</td><td>1872.076</td></tr>\n",
       "\t<tr><td>casual</td><td>09</td><td>1762.440</td></tr>\n",
       "\t<tr><td>member</td><td>09</td><td>1845.318</td></tr>\n",
       "\t<tr><td>casual</td><td>10</td><td>1687.111</td></tr>\n",
       "\t<tr><td>member</td><td>10</td><td>1761.625</td></tr>\n",
       "\t<tr><td>casual</td><td>11</td><td>1622.026</td></tr>\n",
       "\t<tr><td>member</td><td>11</td><td>1703.203</td></tr>\n",
       "\t<tr><td>casual</td><td>12</td><td>1548.428</td></tr>\n",
       "\t<tr><td>member</td><td>12</td><td>1672.405</td></tr>\n",
       "\t<tr><td>casual</td><td>01</td><td>1407.356</td></tr>\n",
       "\t<tr><td>member</td><td>01</td><td>1544.956</td></tr>\n",
       "\t<tr><td>casual</td><td>02</td><td>1566.310</td></tr>\n",
       "\t<tr><td>member</td><td>02</td><td>1678.711</td></tr>\n",
       "\t<tr><td>casual</td><td>03</td><td>1600.961</td></tr>\n",
       "\t<tr><td>member</td><td>03</td><td>1729.249</td></tr>\n",
       "\t<tr><td>casual</td><td>04</td><td>1680.626</td></tr>\n",
       "\t<tr><td>member</td><td>04</td><td>1805.626</td></tr>\n",
       "</tbody>\n",
       "</table>\n"
      ],
      "text/latex": [
       "A tibble: 24 × 3\n",
       "\\begin{tabular}{lll}\n",
       " member\\_casual & month & distance\\_of\\_ride\\\\\n",
       " <chr> & <ord> & <dbl>\\\\\n",
       "\\hline\n",
       "\t casual & 05 & 1761.072\\\\\n",
       "\t member & 05 & 1842.595\\\\\n",
       "\t casual & 06 & 1851.848\\\\\n",
       "\t member & 06 & 1920.028\\\\\n",
       "\t casual & 07 & 1780.281\\\\\n",
       "\t member & 07 & 1884.293\\\\\n",
       "\t casual & 08 & 1791.439\\\\\n",
       "\t member & 08 & 1872.076\\\\\n",
       "\t casual & 09 & 1762.440\\\\\n",
       "\t member & 09 & 1845.318\\\\\n",
       "\t casual & 10 & 1687.111\\\\\n",
       "\t member & 10 & 1761.625\\\\\n",
       "\t casual & 11 & 1622.026\\\\\n",
       "\t member & 11 & 1703.203\\\\\n",
       "\t casual & 12 & 1548.428\\\\\n",
       "\t member & 12 & 1672.405\\\\\n",
       "\t casual & 01 & 1407.356\\\\\n",
       "\t member & 01 & 1544.956\\\\\n",
       "\t casual & 02 & 1566.310\\\\\n",
       "\t member & 02 & 1678.711\\\\\n",
       "\t casual & 03 & 1600.961\\\\\n",
       "\t member & 03 & 1729.249\\\\\n",
       "\t casual & 04 & 1680.626\\\\\n",
       "\t member & 04 & 1805.626\\\\\n",
       "\\end{tabular}\n"
      ],
      "text/markdown": [
       "\n",
       "A tibble: 24 × 3\n",
       "\n",
       "| member_casual &lt;chr&gt; | month &lt;ord&gt; | distance_of_ride &lt;dbl&gt; |\n",
       "|---|---|---|\n",
       "| casual | 05 | 1761.072 |\n",
       "| member | 05 | 1842.595 |\n",
       "| casual | 06 | 1851.848 |\n",
       "| member | 06 | 1920.028 |\n",
       "| casual | 07 | 1780.281 |\n",
       "| member | 07 | 1884.293 |\n",
       "| casual | 08 | 1791.439 |\n",
       "| member | 08 | 1872.076 |\n",
       "| casual | 09 | 1762.440 |\n",
       "| member | 09 | 1845.318 |\n",
       "| casual | 10 | 1687.111 |\n",
       "| member | 10 | 1761.625 |\n",
       "| casual | 11 | 1622.026 |\n",
       "| member | 11 | 1703.203 |\n",
       "| casual | 12 | 1548.428 |\n",
       "| member | 12 | 1672.405 |\n",
       "| casual | 01 | 1407.356 |\n",
       "| member | 01 | 1544.956 |\n",
       "| casual | 02 | 1566.310 |\n",
       "| member | 02 | 1678.711 |\n",
       "| casual | 03 | 1600.961 |\n",
       "| member | 03 | 1729.249 |\n",
       "| casual | 04 | 1680.626 |\n",
       "| member | 04 | 1805.626 |\n",
       "\n"
      ],
      "text/plain": [
       "   member_casual month distance_of_ride\n",
       "1  casual        05    1761.072        \n",
       "2  member        05    1842.595        \n",
       "3  casual        06    1851.848        \n",
       "4  member        06    1920.028        \n",
       "5  casual        07    1780.281        \n",
       "6  member        07    1884.293        \n",
       "7  casual        08    1791.439        \n",
       "8  member        08    1872.076        \n",
       "9  casual        09    1762.440        \n",
       "10 member        09    1845.318        \n",
       "11 casual        10    1687.111        \n",
       "12 member        10    1761.625        \n",
       "13 casual        11    1622.026        \n",
       "14 member        11    1703.203        \n",
       "15 casual        12    1548.428        \n",
       "16 member        12    1672.405        \n",
       "17 casual        01    1407.356        \n",
       "18 member        01    1544.956        \n",
       "19 casual        02    1566.310        \n",
       "20 member        02    1678.711        \n",
       "21 casual        03    1600.961        \n",
       "22 member        03    1729.249        \n",
       "23 casual        04    1680.626        \n",
       "24 member        04    1805.626        "
      ]
     },
     "metadata": {},
     "output_type": "display_data"
    }
   ],
   "source": [
    "year_trips %>%\n",
    "  group_by(member_casual, month) %>%\n",
    "  summarise(distance_of_ride = mean(ride_distance), .groups = 'drop') %>%\n",
    "  arrange(month)"
   ]
  },
  {
   "cell_type": "markdown",
   "id": "83c42d32",
   "metadata": {
    "papermill": {
     "duration": 0.024648,
     "end_time": "2022-09-02T22:41:44.777655",
     "exception": false,
     "start_time": "2022-09-02T22:41:44.753007",
     "status": "completed"
    },
    "tags": []
   },
   "source": [
    "1. While Casual rider has slightly longer distance trip on weekday, membership ride's slighly longer over weekend.\n",
    "2. All users take slightly longer distance trip in Spring"
   ]
  },
  {
   "cell_type": "code",
   "execution_count": 27,
   "id": "8c77e473",
   "metadata": {
    "execution": {
     "iopub.execute_input": "2022-09-02T22:41:44.874690Z",
     "iopub.status.busy": "2022-09-02T22:41:44.873029Z",
     "iopub.status.idle": "2022-09-02T22:41:44.962716Z",
     "shell.execute_reply": "2022-09-02T22:41:44.960896Z"
    },
    "papermill": {
     "duration": 0.11717,
     "end_time": "2022-09-02T22:41:44.965073",
     "exception": false,
     "start_time": "2022-09-02T22:41:44.847903",
     "status": "completed"
    },
    "tags": [],
    "vscode": {
     "languageId": "r"
    }
   },
   "outputs": [
    {
     "data": {
      "text/html": [
       "<table class=\"dataframe\">\n",
       "<caption>A tibble: 2 × 2</caption>\n",
       "<thead>\n",
       "\t<tr><th scope=col>member_casual</th><th scope=col>number_of_rides</th></tr>\n",
       "\t<tr><th scope=col>&lt;chr&gt;</th><th scope=col>&lt;int&gt;</th></tr>\n",
       "</thead>\n",
       "<tbody>\n",
       "\t<tr><td>casual</td><td>1555485</td></tr>\n",
       "\t<tr><td>member</td><td>3321001</td></tr>\n",
       "</tbody>\n",
       "</table>\n"
      ],
      "text/latex": [
       "A tibble: 2 × 2\n",
       "\\begin{tabular}{ll}\n",
       " member\\_casual & number\\_of\\_rides\\\\\n",
       " <chr> & <int>\\\\\n",
       "\\hline\n",
       "\t casual & 1555485\\\\\n",
       "\t member & 3321001\\\\\n",
       "\\end{tabular}\n"
      ],
      "text/markdown": [
       "\n",
       "A tibble: 2 × 2\n",
       "\n",
       "| member_casual &lt;chr&gt; | number_of_rides &lt;int&gt; |\n",
       "|---|---|\n",
       "| casual | 1555485 |\n",
       "| member | 3321001 |\n",
       "\n"
      ],
      "text/plain": [
       "  member_casual number_of_rides\n",
       "1 casual        1555485        \n",
       "2 member        3321001        "
      ]
     },
     "metadata": {},
     "output_type": "display_data"
    }
   ],
   "source": [
    "year_trips %>%\n",
    "  group_by(member_casual) %>%\n",
    "  summarize(number_of_rides = n(), .groups = 'drop')"
   ]
  },
  {
   "cell_type": "markdown",
   "metadata": {},
   "source": [
    "Members take up almost 68% of the total rides in a year."
   ]
  },
  {
   "cell_type": "code",
   "execution_count": 28,
   "id": "dc8b8bf2",
   "metadata": {
    "execution": {
     "iopub.execute_input": "2022-09-02T22:41:45.014536Z",
     "iopub.status.busy": "2022-09-02T22:41:45.012965Z",
     "iopub.status.idle": "2022-09-02T22:41:45.245856Z",
     "shell.execute_reply": "2022-09-02T22:41:45.243908Z"
    },
    "papermill": {
     "duration": 0.260498,
     "end_time": "2022-09-02T22:41:45.248371",
     "exception": false,
     "start_time": "2022-09-02T22:41:44.987873",
     "status": "completed"
    },
    "tags": [],
    "vscode": {
     "languageId": "r"
    }
   },
   "outputs": [
    {
     "data": {
      "text/html": [
       "<table class=\"dataframe\">\n",
       "<caption>A tibble: 2 × 2</caption>\n",
       "<thead>\n",
       "\t<tr><th scope=col>member_casual</th><th scope=col>number_of_rides</th></tr>\n",
       "\t<tr><th scope=col>&lt;chr&gt;</th><th scope=col>&lt;int&gt;</th></tr>\n",
       "</thead>\n",
       "<tbody>\n",
       "\t<tr><td>casual</td><td> 98425</td></tr>\n",
       "\t<tr><td>member</td><td>108981</td></tr>\n",
       "</tbody>\n",
       "</table>\n"
      ],
      "text/latex": [
       "A tibble: 2 × 2\n",
       "\\begin{tabular}{ll}\n",
       " member\\_casual & number\\_of\\_rides\\\\\n",
       " <chr> & <int>\\\\\n",
       "\\hline\n",
       "\t casual &  98425\\\\\n",
       "\t member & 108981\\\\\n",
       "\\end{tabular}\n"
      ],
      "text/markdown": [
       "\n",
       "A tibble: 2 × 2\n",
       "\n",
       "| member_casual &lt;chr&gt; | number_of_rides &lt;int&gt; |\n",
       "|---|---|\n",
       "| casual |  98425 |\n",
       "| member | 108981 |\n",
       "\n"
      ],
      "text/plain": [
       "  member_casual number_of_rides\n",
       "1 casual         98425         \n",
       "2 member        108981         "
      ]
     },
     "metadata": {},
     "output_type": "display_data"
    }
   ],
   "source": [
    "year_trips %>%\n",
    "  group_by(member_casual) %>%\n",
    "  filter(ride_distance < 1) %>%\n",
    "  summarize(number_of_rides = n() , .groups = 'drop')"
   ]
  },
  {
   "cell_type": "markdown",
   "id": "aea72ce6",
   "metadata": {
    "papermill": {
     "duration": 0.023487,
     "end_time": "2022-09-02T22:41:45.295723",
     "exception": false,
     "start_time": "2022-09-02T22:41:45.272236",
     "status": "completed"
    },
    "tags": []
   },
   "source": [
    "While 6.4% of casual riders return their bike to their start point station, 3.3% of membership rider returns at their start point station. "
   ]
  },
  {
   "cell_type": "markdown",
   "id": "e64f8087",
   "metadata": {
    "papermill": {
     "duration": 0.023837,
     "end_time": "2022-09-02T22:41:45.343667",
     "exception": false,
     "start_time": "2022-09-02T22:41:45.319830",
     "status": "completed"
    },
    "tags": []
   },
   "source": [
    "# SHARE"
   ]
  },
  {
   "cell_type": "code",
   "execution_count": 29,
   "id": "3b7d2c24",
   "metadata": {
    "execution": {
     "iopub.execute_input": "2022-09-02T22:41:45.442786Z",
     "iopub.status.busy": "2022-09-02T22:41:45.441079Z",
     "iopub.status.idle": "2022-09-02T22:41:46.519554Z",
     "shell.execute_reply": "2022-09-02T22:41:46.516155Z"
    },
    "papermill": {
     "duration": 1.109178,
     "end_time": "2022-09-02T22:41:46.522971",
     "exception": false,
     "start_time": "2022-09-02T22:41:45.413793",
     "status": "completed"
    },
    "tags": [],
    "vscode": {
     "languageId": "r"
    }
   },
   "outputs": [
    {
     "data": {
      "image/png": "[encoded data removed]",
      "text/plain": [
       "plot without title"
      ]
     },
     "metadata": {
      "image/png": {
       "height": 420,
       "width": 420
      }
     },
     "output_type": "display_data"
    },
    {
     "data": {
      "image/png": "[encoded data removed]",
      "text/plain": [
       "plot without title"
      ]
     },
     "metadata": {
      "image/png": {
       "height": 420,
       "width": 420
      }
     },
     "output_type": "display_data"
    }
   ],
   "source": [
    "year_trips %>%\n",
    "  group_by(member_casual, day_of_week) %>%\n",
    "  summarise(number_of_rides = n(), .groups = 'drop') %>%\n",
    "  ggplot(aes(x = day_of_week, y = number_of_rides, fill = member_casual)) +\n",
    "  geom_bar(position = \"dodge\", stat = \"identity\") +\n",
    "  labs(title = \"Number of Rides per Day of the Week\", x = \"Day of the Week\", y = \"Number of Rides\", fill = \"Membership Type\") +\n",
    "  scale_fill_manual(values = c(\"member\" = \"#3da02c\", \"casual\" = \"#3317cf\"))\n",
    "\n",
    "year_trips %>%\n",
    "  group_by(member_casual, month) %>%\n",
    "  summarise(number_of_rides = n(), .groups = 'drop') %>%\n",
    "  ggplot(aes(x = month, y = number_of_rides, fill = member_casual)) +\n",
    "  geom_bar(position = \"dodge\", stat = \"identity\") +\n",
    "  labs(title = \"Number of Rides per Month of the Year\", x = \"Month of the Year\", y = \"Number of Rides\", fill = \"Membership Type\") +\n",
    "  scale_fill_manual(values = c(\"member\" = \"#3da02c\", \"casual\" = \"#3317cf\"))"
   ]
  },
  {
   "cell_type": "code",
   "execution_count": 30,
   "id": "5ea06207",
   "metadata": {
    "execution": {
     "iopub.execute_input": "2022-09-02T22:41:46.576823Z",
     "iopub.status.busy": "2022-09-02T22:41:46.575059Z",
     "iopub.status.idle": "2022-09-02T22:41:47.340618Z",
     "shell.execute_reply": "2022-09-02T22:41:47.337610Z"
    },
    "papermill": {
     "duration": 0.795611,
     "end_time": "2022-09-02T22:41:47.343666",
     "exception": false,
     "start_time": "2022-09-02T22:41:46.548055",
     "status": "completed"
    },
    "tags": [],
    "vscode": {
     "languageId": "r"
    }
   },
   "outputs": [
    {
     "data": {
      "image/png": "[encoded data removed]",
      "text/plain": [
       "plot without title"
      ]
     },
     "metadata": {
      "image/png": {
       "height": 420,
       "width": 420
      }
     },
     "output_type": "display_data"
    },
    {
     "data": {
      "image/png": "[encoded data removed]",
      "text/plain": [
       "plot without title"
      ]
     },
     "metadata": {
      "image/png": {
       "height": 420,
       "width": 420
      }
     },
     "output_type": "display_data"
    }
   ],
   "source": [
    "year_trips %>%\n",
    "  group_by(member_casual, day_of_week) %>%\n",
    "  summarise(average_ride_length = mean(ride_length), .groups = 'drop') %>%\n",
    "  ggplot(aes(x = day_of_week, y = average_ride_length, fill = member_casual)) + \n",
    "  geom_bar(position = \"dodge\", stat = \"identity\") +\n",
    "  labs(title = \"Average Ride Length per Day of the Weak\", x = \"Day of the Weak\", y = \"Average Ride Length\", fill = \"Membership Type\") +\n",
    "  scale_fill_manual(values = c(\"member\" = \"#3da02c\", \"casual\" = \"#3317cf\"))\n",
    "\n",
    "year_trips %>%\n",
    "  group_by(member_casual, month) %>%\n",
    "  summarise(average_ride_length = mean(ride_length), .groups = 'drop') %>%\n",
    "  ggplot(aes(x = month, y = average_ride_length, fill = member_casual)) + \n",
    "  geom_bar(position = \"dodge\", stat = \"identity\") +\n",
    "  labs(title = \"Average Ride Length per Month of the Year\", x = \"Month of the Year\", y = \"Average Ride Length\", fill = \"Membership Type\") +\n",
    "  scale_fill_manual(values = c(\"member\" = \"#3da02c\", \"casual\" = \"#3317cf\"))"
   ]
  },
  {
   "cell_type": "code",
   "execution_count": 31,
   "id": "ec70fcc7",
   "metadata": {
    "execution": {
     "iopub.execute_input": "2022-09-02T22:41:52.689209Z",
     "iopub.status.busy": "2022-09-02T22:41:52.687596Z",
     "iopub.status.idle": "2022-09-02T22:41:53.467900Z",
     "shell.execute_reply": "2022-09-02T22:41:53.465045Z"
    },
    "papermill": {
     "duration": 0.812478,
     "end_time": "2022-09-02T22:41:53.471116",
     "exception": false,
     "start_time": "2022-09-02T22:41:52.658638",
     "status": "completed"
    },
    "tags": [],
    "vscode": {
     "languageId": "r"
    }
   },
   "outputs": [
    {
     "data": {
      "image/png": "[encoded data removed]",
      "text/plain": [
       "plot without title"
      ]
     },
     "metadata": {
      "image/png": {
       "height": 420,
       "width": 420
      }
     },
     "output_type": "display_data"
    },
    {
     "data": {
      "image/png": "[encoded data removed]",
      "text/plain": [
       "plot without title"
      ]
     },
     "metadata": {
      "image/png": {
       "height": 420,
       "width": 420
      }
     },
     "output_type": "display_data"
    }
   ],
   "source": [
    "year_trips %>%\n",
    "  group_by(member_casual, day_of_week) %>%\n",
    "  summarise(avg_ride_distance = mean(ride_distance), .groups = 'drop') %>%\n",
    "  ggplot(aes(x = day_of_week, y = avg_ride_distance, fill = member_casual)) +\n",
    "  geom_bar(position = \"dodge\", stat = \"identity\") +\n",
    "  labs(title = \"Average Ride Distance per Day of the Week\", x = \"Day of the Week\", y = \"Average Ride Distance\", fill = \"Membership Type\") +\n",
    "  scale_fill_manual(values = c(\"member\" = \"#3da02c\", \"casual\" = \"#3317cf\"))\n",
    "\n",
    "year_trips %>%\n",
    "  group_by(member_casual, month) %>%\n",
    "  summarise(avg_ride_distance = mean(ride_distance), .groups = 'drop') %>%\n",
    "  ggplot(aes(x = month, y = avg_ride_distance, fill = member_casual)) + \n",
    "  geom_bar(position = \"dodge\", stat = \"identity\") +\n",
    "  labs(title = \"Average Ride Distance per Month of the Year\", x = \"Month of the Year\", y = \"Average Ride Distance\", fill = \"Membership Type\") +\n",
    "  scale_fill_manual(values = c(\"member\" = \"#3da02c\", \"casual\" = \"#3317cf\"))"
   ]
  },
  {
   "cell_type": "code",
   "execution_count": 32,
   "metadata": {
    "vscode": {
     "languageId": "r"
    }
   },
   "outputs": [
    {
     "data": {
      "image/png": "[encoded data removed]",
      "text/plain": [
       "plot without title"
      ]
     },
     "metadata": {
      "image/png": {
       "height": 420,
       "width": 420
      }
     },
     "output_type": "display_data"
    },
    {
     "data": {
      "image/png": "[encoded data removed]",
      "text/plain": [
       "plot without title"
      ]
     },
     "metadata": {
      "image/png": {
       "height": 420,
       "width": 420
      }
     },
     "output_type": "display_data"
    }
   ],
   "source": [
    "year_trips %>%\n",
    "  group_by(month, rideable_type, member_casual) %>%\n",
    "  summarise(number_of_rides = n(), .groups = 'drop') %>%\n",
    "  ggplot(aes(x = month, y = number_of_rides, fill = member_casual)) +\n",
    "  geom_bar(position = \"dodge\", stat = \"identity\") +\n",
    "  facet_wrap(~ rideable_type) +\n",
    "  scale_fill_manual(values = c(\"member\" = \"#3da02c\", \"casual\" = \"#3317cf\")) +\n",
    "  labs(title = \"Number of Rides by Bike Type and Membership Over Months\",\n",
    "       x = \"Month\",\n",
    "       y = \"Number of Rides\",\n",
    "       fill = \"Membership Type\") +\n",
    "  theme_minimal() +\n",
    "  theme(axis.text.x = element_text(angle = 45, hjust = 1))\n",
    "\n",
    "year_trips %>%\n",
    "  group_by(day_of_week, rideable_type, member_casual) %>%\n",
    "  summarise(number_of_rides = n(), .groups = 'drop') %>%\n",
    "  ggplot(aes(x = day_of_week, y = number_of_rides, fill = member_casual)) +\n",
    "  geom_bar(position = \"dodge\", stat = \"identity\") +\n",
    "  facet_wrap(~ rideable_type) +\n",
    "  scale_fill_manual(values = c(\"member\" = \"#3da02c\", \"casual\" = \"#3317cf\")) +\n",
    "  labs(title = \"Number of Rides by Bike Type and Membership Over the Days of a Week\",\n",
    "       x = \"Day of the Week\",\n",
    "       y = \"Number of Rides\",\n",
    "       fill = \"Membership Type\") +\n",
    "  theme_minimal() +\n",
    "  theme(axis.text.x = element_text(angle = 45, hjust = 1))"
   ]
  },
  {
   "cell_type": "markdown",
   "metadata": {},
   "source": [
    "1. Casual users are more prone to rent the electric bike versus tha classic one, this proves that these users are more for the fun."
   ]
  },
  {
   "cell_type": "markdown",
   "id": "95ab9157",
   "metadata": {
    "papermill": {
     "duration": 0.026631,
     "end_time": "2022-09-02T22:41:53.524938",
     "exception": false,
     "start_time": "2022-09-02T22:41:53.498307",
     "status": "completed"
    },
    "tags": []
   },
   "source": [
    "## **ANALYSIS**\n",
    "1. The data suggests that casual users travel almost the same average distance as member users, albeit with relatively longer ride durations. This indicates that casual users may have a more leisure-oriented approach to bike usage, in contrast to the more pragmatic, public transport-like usage by annual members.\n",
    "\n",
    "2. Members rider are more frequently on weekdays, while casual riders use the service on weekends. This pattern suggests that membership riders utilize the service primarily for commuting purposes, whereas casual riders use it for recreational activities."
   ]
  },
  {
   "cell_type": "markdown",
   "id": "c21b47bc",
   "metadata": {
    "papermill": {
     "duration": 0.026625,
     "end_time": "2022-09-02T22:41:53.578601",
     "exception": false,
     "start_time": "2022-09-02T22:41:53.551976",
     "status": "completed"
    },
    "tags": []
   },
   "source": [
    "## **CONCLUSION**\n",
    "\n",
    "1. Casual users predominantly engage in leisure and tourism rides, especially on weekends.\n",
    "\n",
    "2. Annual users primarily utilize the service for commuting or practical purposes during weekdays."
   ]
  }
 ],
 "metadata": {
  "kernelspec": {
   "display_name": "R",
   "language": "R",
   "name": "ir"
  },
  "language_info": {
   "codemirror_mode": "r",
   "file_extension": ".r",
   "mimetype": "text/x-r-source",
   "name": "R",
   "pygments_lexer": "r",
   "version": "4.4.1"
  },
  "papermill": {
   "default_parameters": {},
   "duration": 176.364329,
   "end_time": "2022-09-02T22:41:54.028477",
   "environment_variables": {},
   "exception": null,
   "input_path": "__notebook__.ipynb",
   "output_path": "__notebook__.ipynb",
   "parameters": {},
   "start_time": "2022-09-02T22:38:57.664148",
   "version": "2.3.4"
  }
 },
 "nbformat": 4,
 "nbformat_minor": 5
}
